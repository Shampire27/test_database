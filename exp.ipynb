{
 "cells": [
  {
   "cell_type": "code",
   "execution_count": 36,
   "metadata": {
    "collapsed": true
   },
   "outputs": [],
   "source": [
    "import json\n",
    "import pandas as pd"
   ]
  },
  {
   "cell_type": "code",
   "execution_count": 37,
   "outputs": [],
   "source": [
    "with open('files/raw_data.json') as f:\n",
    "  data = json.load(f)"
   ],
   "metadata": {
    "collapsed": false,
    "pycharm": {
     "name": "#%%\n"
    }
   }
  },
  {
   "cell_type": "code",
   "execution_count": 38,
   "outputs": [],
   "source": [
    "# print(data)"
   ],
   "metadata": {
    "collapsed": false,
    "pycharm": {
     "name": "#%%\n"
    }
   }
  },
  {
   "cell_type": "code",
   "execution_count": 39,
   "outputs": [],
   "source": [
    "# for i in data:\n",
    "#   print(data[i])"
   ],
   "metadata": {
    "collapsed": false,
    "pycharm": {
     "name": "#%%\n"
    }
   }
  },
  {
   "cell_type": "code",
   "execution_count": 40,
   "outputs": [],
   "source": [
    "df=pd.read_json(\"files/raw_data.json\")\n"
   ],
   "metadata": {
    "collapsed": false,
    "pycharm": {
     "name": "#%%\n"
    }
   }
  },
  {
   "cell_type": "code",
   "execution_count": 41,
   "outputs": [],
   "source": [
    "df1=df.T"
   ],
   "metadata": {
    "collapsed": false,
    "pycharm": {
     "name": "#%%\n"
    }
   }
  },
  {
   "cell_type": "code",
   "execution_count": 42,
   "outputs": [
    {
     "data": {
      "text/plain": "            Date Area_Code Total_Condo_Sold_Number   Avg_Price Med_Price  \\\n0     2001-01-01       E02                     5.0    214180.0  229000.0   \n1     2001-01-01       W09                    15.0    108467.0   93000.0   \n2     2001-01-01       W08                    18.0    218839.0  150000.0   \n3     2001-01-01       W07                     1.0    179500.0  179500.0   \n4     2001-01-01       W06                    15.0    224660.0  190000.0   \n...          ...       ...                     ...         ...       ...   \n8773  2021-04-01       W07                     4.0    827000.0  847500.0   \n8774  2021-04-01       W08                   113.0    639655.0  600000.0   \n8775  2021-04-01       W02                    31.0    720145.0  671000.0   \n8776  2021-04-01       W03                    12.0    593675.0  580000.0   \n8777  2021-04-01       All                  2277.0  727137.343        NA   \n\n     Prime_Rate Inflation          GDP Metal_Price       NASDAQ  \\\n0           7.4       2.8  33393.91068     262.182  2641.687163   \n1           7.4       2.8  33393.91068     262.182  2641.687163   \n2           7.4       2.8  33393.91068     262.182  2641.687163   \n3           7.4       2.8  33393.91068     262.182  2641.687163   \n4           7.4       2.8  33393.91068     262.182  2641.687163   \n...         ...       ...          ...         ...          ...   \n8773       2.45       0.7  46006.79326    683.0225  13889.21294   \n8774       2.45       0.7  46006.79326    683.0225  13889.21294   \n8775       2.45       0.7  46006.79326    683.0225  13889.21294   \n8776       2.45       0.7  46006.79326    683.0225  13889.21294   \n8777       2.45       0.7  46006.79326    683.0225  13889.21294   \n\n     Ontario_Immigrants_International Toronto_Median_Age UT_Total_Enrollment  \\\n0                             34801.0               36.8             45261.0   \n1                             34801.0               36.8             45261.0   \n2                             34801.0               36.8             45261.0   \n3                             34801.0               36.8             45261.0   \n4                             34801.0               36.8             45261.0   \n...                               ...                ...                 ...   \n8773                          17281.0               40.4             83970.0   \n8774                          17281.0               40.4             83970.0   \n8775                          17281.0               40.4             83970.0   \n8776                          17281.0               40.4             83970.0   \n8777                          17281.0               40.4             83970.0   \n\n     Toronto_Participation_Rate Toronto_Employment_Rate Toronto_Population  \\\n0                          68.6                    65.0          4882618.0   \n1                          68.6                    65.0          4882618.0   \n2                          68.6                    65.0          4882618.0   \n3                          68.6                    65.0          4882618.0   \n4                          68.6                    65.0          4882618.0   \n...                         ...                     ...                ...   \n8773                       64.7                    58.4          6555205.0   \n8774                       64.7                    58.4          6555205.0   \n8775                       64.7                    58.4          6555205.0   \n8776                       64.7                    58.4          6555205.0   \n8777                       64.7                    58.4          6555205.0   \n\n     New_Units_Number_Planned New_Units_Number_Construction  \n0                      1457.0                         511.0  \n1                      1457.0                         511.0  \n2                      1457.0                         511.0  \n3                      1457.0                         511.0  \n4                      1457.0                         511.0  \n...                       ...                           ...  \n8773                   3986.0                        2271.0  \n8774                   3986.0                        2271.0  \n8775                   3986.0                        2271.0  \n8776                   3986.0                        2271.0  \n8777                   3986.0                        2271.0  \n\n[8778 rows x 18 columns]",
      "text/html": "<div>\n<style scoped>\n    .dataframe tbody tr th:only-of-type {\n        vertical-align: middle;\n    }\n\n    .dataframe tbody tr th {\n        vertical-align: top;\n    }\n\n    .dataframe thead th {\n        text-align: right;\n    }\n</style>\n<table border=\"1\" class=\"dataframe\">\n  <thead>\n    <tr style=\"text-align: right;\">\n      <th></th>\n      <th>Date</th>\n      <th>Area_Code</th>\n      <th>Total_Condo_Sold_Number</th>\n      <th>Avg_Price</th>\n      <th>Med_Price</th>\n      <th>Prime_Rate</th>\n      <th>Inflation</th>\n      <th>GDP</th>\n      <th>Metal_Price</th>\n      <th>NASDAQ</th>\n      <th>Ontario_Immigrants_International</th>\n      <th>Toronto_Median_Age</th>\n      <th>UT_Total_Enrollment</th>\n      <th>Toronto_Participation_Rate</th>\n      <th>Toronto_Employment_Rate</th>\n      <th>Toronto_Population</th>\n      <th>New_Units_Number_Planned</th>\n      <th>New_Units_Number_Construction</th>\n    </tr>\n  </thead>\n  <tbody>\n    <tr>\n      <th>0</th>\n      <td>2001-01-01</td>\n      <td>E02</td>\n      <td>5.0</td>\n      <td>214180.0</td>\n      <td>229000.0</td>\n      <td>7.4</td>\n      <td>2.8</td>\n      <td>33393.91068</td>\n      <td>262.182</td>\n      <td>2641.687163</td>\n      <td>34801.0</td>\n      <td>36.8</td>\n      <td>45261.0</td>\n      <td>68.6</td>\n      <td>65.0</td>\n      <td>4882618.0</td>\n      <td>1457.0</td>\n      <td>511.0</td>\n    </tr>\n    <tr>\n      <th>1</th>\n      <td>2001-01-01</td>\n      <td>W09</td>\n      <td>15.0</td>\n      <td>108467.0</td>\n      <td>93000.0</td>\n      <td>7.4</td>\n      <td>2.8</td>\n      <td>33393.91068</td>\n      <td>262.182</td>\n      <td>2641.687163</td>\n      <td>34801.0</td>\n      <td>36.8</td>\n      <td>45261.0</td>\n      <td>68.6</td>\n      <td>65.0</td>\n      <td>4882618.0</td>\n      <td>1457.0</td>\n      <td>511.0</td>\n    </tr>\n    <tr>\n      <th>2</th>\n      <td>2001-01-01</td>\n      <td>W08</td>\n      <td>18.0</td>\n      <td>218839.0</td>\n      <td>150000.0</td>\n      <td>7.4</td>\n      <td>2.8</td>\n      <td>33393.91068</td>\n      <td>262.182</td>\n      <td>2641.687163</td>\n      <td>34801.0</td>\n      <td>36.8</td>\n      <td>45261.0</td>\n      <td>68.6</td>\n      <td>65.0</td>\n      <td>4882618.0</td>\n      <td>1457.0</td>\n      <td>511.0</td>\n    </tr>\n    <tr>\n      <th>3</th>\n      <td>2001-01-01</td>\n      <td>W07</td>\n      <td>1.0</td>\n      <td>179500.0</td>\n      <td>179500.0</td>\n      <td>7.4</td>\n      <td>2.8</td>\n      <td>33393.91068</td>\n      <td>262.182</td>\n      <td>2641.687163</td>\n      <td>34801.0</td>\n      <td>36.8</td>\n      <td>45261.0</td>\n      <td>68.6</td>\n      <td>65.0</td>\n      <td>4882618.0</td>\n      <td>1457.0</td>\n      <td>511.0</td>\n    </tr>\n    <tr>\n      <th>4</th>\n      <td>2001-01-01</td>\n      <td>W06</td>\n      <td>15.0</td>\n      <td>224660.0</td>\n      <td>190000.0</td>\n      <td>7.4</td>\n      <td>2.8</td>\n      <td>33393.91068</td>\n      <td>262.182</td>\n      <td>2641.687163</td>\n      <td>34801.0</td>\n      <td>36.8</td>\n      <td>45261.0</td>\n      <td>68.6</td>\n      <td>65.0</td>\n      <td>4882618.0</td>\n      <td>1457.0</td>\n      <td>511.0</td>\n    </tr>\n    <tr>\n      <th>...</th>\n      <td>...</td>\n      <td>...</td>\n      <td>...</td>\n      <td>...</td>\n      <td>...</td>\n      <td>...</td>\n      <td>...</td>\n      <td>...</td>\n      <td>...</td>\n      <td>...</td>\n      <td>...</td>\n      <td>...</td>\n      <td>...</td>\n      <td>...</td>\n      <td>...</td>\n      <td>...</td>\n      <td>...</td>\n      <td>...</td>\n    </tr>\n    <tr>\n      <th>8773</th>\n      <td>2021-04-01</td>\n      <td>W07</td>\n      <td>4.0</td>\n      <td>827000.0</td>\n      <td>847500.0</td>\n      <td>2.45</td>\n      <td>0.7</td>\n      <td>46006.79326</td>\n      <td>683.0225</td>\n      <td>13889.21294</td>\n      <td>17281.0</td>\n      <td>40.4</td>\n      <td>83970.0</td>\n      <td>64.7</td>\n      <td>58.4</td>\n      <td>6555205.0</td>\n      <td>3986.0</td>\n      <td>2271.0</td>\n    </tr>\n    <tr>\n      <th>8774</th>\n      <td>2021-04-01</td>\n      <td>W08</td>\n      <td>113.0</td>\n      <td>639655.0</td>\n      <td>600000.0</td>\n      <td>2.45</td>\n      <td>0.7</td>\n      <td>46006.79326</td>\n      <td>683.0225</td>\n      <td>13889.21294</td>\n      <td>17281.0</td>\n      <td>40.4</td>\n      <td>83970.0</td>\n      <td>64.7</td>\n      <td>58.4</td>\n      <td>6555205.0</td>\n      <td>3986.0</td>\n      <td>2271.0</td>\n    </tr>\n    <tr>\n      <th>8775</th>\n      <td>2021-04-01</td>\n      <td>W02</td>\n      <td>31.0</td>\n      <td>720145.0</td>\n      <td>671000.0</td>\n      <td>2.45</td>\n      <td>0.7</td>\n      <td>46006.79326</td>\n      <td>683.0225</td>\n      <td>13889.21294</td>\n      <td>17281.0</td>\n      <td>40.4</td>\n      <td>83970.0</td>\n      <td>64.7</td>\n      <td>58.4</td>\n      <td>6555205.0</td>\n      <td>3986.0</td>\n      <td>2271.0</td>\n    </tr>\n    <tr>\n      <th>8776</th>\n      <td>2021-04-01</td>\n      <td>W03</td>\n      <td>12.0</td>\n      <td>593675.0</td>\n      <td>580000.0</td>\n      <td>2.45</td>\n      <td>0.7</td>\n      <td>46006.79326</td>\n      <td>683.0225</td>\n      <td>13889.21294</td>\n      <td>17281.0</td>\n      <td>40.4</td>\n      <td>83970.0</td>\n      <td>64.7</td>\n      <td>58.4</td>\n      <td>6555205.0</td>\n      <td>3986.0</td>\n      <td>2271.0</td>\n    </tr>\n    <tr>\n      <th>8777</th>\n      <td>2021-04-01</td>\n      <td>All</td>\n      <td>2277.0</td>\n      <td>727137.343</td>\n      <td>NA</td>\n      <td>2.45</td>\n      <td>0.7</td>\n      <td>46006.79326</td>\n      <td>683.0225</td>\n      <td>13889.21294</td>\n      <td>17281.0</td>\n      <td>40.4</td>\n      <td>83970.0</td>\n      <td>64.7</td>\n      <td>58.4</td>\n      <td>6555205.0</td>\n      <td>3986.0</td>\n      <td>2271.0</td>\n    </tr>\n  </tbody>\n</table>\n<p>8778 rows × 18 columns</p>\n</div>"
     },
     "execution_count": 42,
     "metadata": {},
     "output_type": "execute_result"
    }
   ],
   "source": [
    "df1"
   ],
   "metadata": {
    "collapsed": false,
    "pycharm": {
     "name": "#%%\n"
    }
   }
  },
  {
   "cell_type": "code",
   "execution_count": 43,
   "outputs": [
    {
     "name": "stdout",
     "output_type": "stream",
     "text": [
      "<class 'pandas.core.frame.DataFrame'>\n",
      "Int64Index: 8778 entries, 0 to 8777\n",
      "Data columns (total 18 columns):\n",
      " #   Column                            Non-Null Count  Dtype \n",
      "---  ------                            --------------  ----- \n",
      " 0   Date                              8778 non-null   object\n",
      " 1   Area_Code                         8778 non-null   object\n",
      " 2   Total_Condo_Sold_Number           8778 non-null   object\n",
      " 3   Avg_Price                         8778 non-null   object\n",
      " 4   Med_Price                         8778 non-null   object\n",
      " 5   Prime_Rate                        8778 non-null   object\n",
      " 6   Inflation                         8778 non-null   object\n",
      " 7   GDP                               8778 non-null   object\n",
      " 8   Metal_Price                       8778 non-null   object\n",
      " 9   NASDAQ                            8778 non-null   object\n",
      " 10  Ontario_Immigrants_International  8778 non-null   object\n",
      " 11  Toronto_Median_Age                8778 non-null   object\n",
      " 12  UT_Total_Enrollment               8778 non-null   object\n",
      " 13  Toronto_Participation_Rate        8778 non-null   object\n",
      " 14  Toronto_Employment_Rate           8778 non-null   object\n",
      " 15  Toronto_Population                8778 non-null   object\n",
      " 16  New_Units_Number_Planned          8778 non-null   object\n",
      " 17  New_Units_Number_Construction     8778 non-null   object\n",
      "dtypes: object(18)\n",
      "memory usage: 1.5+ MB\n"
     ]
    }
   ],
   "source": [
    "df1.info()"
   ],
   "metadata": {
    "collapsed": false,
    "pycharm": {
     "name": "#%%\n"
    }
   }
  },
  {
   "cell_type": "code",
   "execution_count": 44,
   "outputs": [
    {
     "data": {
      "text/plain": "              Date Area_Code  Total_Condo_Sold_Number  Avg_Price Med_Price  \\\ncount         8778      8778                   8778.0     8778.0      8778   \nunique         244        36                    570.0     8465.0      2662   \ntop     2004-02-01       C04                      3.0        0.0        NA   \nfreq            36       244                    265.0       55.0       244   \n\n        Prime_Rate  Inflation          GDP  Metal_Price       NASDAQ  \\\ncount       8778.0     8778.0   8778.00000    8778.0000  8778.000000   \nunique        63.0      188.0    244.00000     244.0000   244.000000   \ntop            3.0        0.7  34819.83421     671.0775  2052.735769   \nfreq        1866.0      287.0     36.00000      36.0000    36.000000   \n\n        Ontario_Immigrants_International  Toronto_Median_Age  \\\ncount                             8778.0              8778.0   \nunique                             238.0               226.0   \ntop                              17281.0                40.4   \nfreq                               252.0               576.0   \n\n        UT_Total_Enrollment  Toronto_Participation_Rate  \\\ncount                8778.0                      8778.0   \nunique                 21.0                        60.0   \ntop                 57887.0                        68.1   \nfreq                  432.0                       432.0   \n\n        Toronto_Employment_Rate  Toronto_Population  New_Units_Number_Planned  \\\ncount                    8778.0              8778.0                    8778.0   \nunique                     63.0               229.0                     231.0   \ntop                        64.0           6555205.0                    1207.0   \nfreq                      360.0               576.0                     108.0   \n\n        New_Units_Number_Construction  \ncount                          8778.0  \nunique                          239.0  \ntop                            1273.0  \nfreq                            108.0  ",
      "text/html": "<div>\n<style scoped>\n    .dataframe tbody tr th:only-of-type {\n        vertical-align: middle;\n    }\n\n    .dataframe tbody tr th {\n        vertical-align: top;\n    }\n\n    .dataframe thead th {\n        text-align: right;\n    }\n</style>\n<table border=\"1\" class=\"dataframe\">\n  <thead>\n    <tr style=\"text-align: right;\">\n      <th></th>\n      <th>Date</th>\n      <th>Area_Code</th>\n      <th>Total_Condo_Sold_Number</th>\n      <th>Avg_Price</th>\n      <th>Med_Price</th>\n      <th>Prime_Rate</th>\n      <th>Inflation</th>\n      <th>GDP</th>\n      <th>Metal_Price</th>\n      <th>NASDAQ</th>\n      <th>Ontario_Immigrants_International</th>\n      <th>Toronto_Median_Age</th>\n      <th>UT_Total_Enrollment</th>\n      <th>Toronto_Participation_Rate</th>\n      <th>Toronto_Employment_Rate</th>\n      <th>Toronto_Population</th>\n      <th>New_Units_Number_Planned</th>\n      <th>New_Units_Number_Construction</th>\n    </tr>\n  </thead>\n  <tbody>\n    <tr>\n      <th>count</th>\n      <td>8778</td>\n      <td>8778</td>\n      <td>8778.0</td>\n      <td>8778.0</td>\n      <td>8778</td>\n      <td>8778.0</td>\n      <td>8778.0</td>\n      <td>8778.00000</td>\n      <td>8778.0000</td>\n      <td>8778.000000</td>\n      <td>8778.0</td>\n      <td>8778.0</td>\n      <td>8778.0</td>\n      <td>8778.0</td>\n      <td>8778.0</td>\n      <td>8778.0</td>\n      <td>8778.0</td>\n      <td>8778.0</td>\n    </tr>\n    <tr>\n      <th>unique</th>\n      <td>244</td>\n      <td>36</td>\n      <td>570.0</td>\n      <td>8465.0</td>\n      <td>2662</td>\n      <td>63.0</td>\n      <td>188.0</td>\n      <td>244.00000</td>\n      <td>244.0000</td>\n      <td>244.000000</td>\n      <td>238.0</td>\n      <td>226.0</td>\n      <td>21.0</td>\n      <td>60.0</td>\n      <td>63.0</td>\n      <td>229.0</td>\n      <td>231.0</td>\n      <td>239.0</td>\n    </tr>\n    <tr>\n      <th>top</th>\n      <td>2004-02-01</td>\n      <td>C04</td>\n      <td>3.0</td>\n      <td>0.0</td>\n      <td>NA</td>\n      <td>3.0</td>\n      <td>0.7</td>\n      <td>34819.83421</td>\n      <td>671.0775</td>\n      <td>2052.735769</td>\n      <td>17281.0</td>\n      <td>40.4</td>\n      <td>57887.0</td>\n      <td>68.1</td>\n      <td>64.0</td>\n      <td>6555205.0</td>\n      <td>1207.0</td>\n      <td>1273.0</td>\n    </tr>\n    <tr>\n      <th>freq</th>\n      <td>36</td>\n      <td>244</td>\n      <td>265.0</td>\n      <td>55.0</td>\n      <td>244</td>\n      <td>1866.0</td>\n      <td>287.0</td>\n      <td>36.00000</td>\n      <td>36.0000</td>\n      <td>36.000000</td>\n      <td>252.0</td>\n      <td>576.0</td>\n      <td>432.0</td>\n      <td>432.0</td>\n      <td>360.0</td>\n      <td>576.0</td>\n      <td>108.0</td>\n      <td>108.0</td>\n    </tr>\n  </tbody>\n</table>\n</div>"
     },
     "execution_count": 44,
     "metadata": {},
     "output_type": "execute_result"
    }
   ],
   "source": [
    "df1.describe()"
   ],
   "metadata": {
    "collapsed": false,
    "pycharm": {
     "name": "#%%\n"
    }
   }
  },
  {
   "cell_type": "code",
   "execution_count": 45,
   "outputs": [
    {
     "data": {
      "text/plain": "            Date Area_Code Total_Condo_Sold_Number    Avg_Price Med_Price  \\\n18    2001-01-01       All                   528.0  185757.6686        NA   \n49    2001-02-01       All                   732.0  189990.7036        NA   \n88    2001-03-01       All                   925.0  191476.2205        NA   \n121   2001-04-01       All                   836.0  189802.6914        NA   \n156   2001-05-01       All                   958.0  191658.3372        NA   \n...          ...       ...                     ...          ...       ...   \n8598  2020-12-01       All                  1551.0  625828.1154        NA   \n8655  2021-01-01       All                  1703.0   624885.623        NA   \n8689  2021-02-01       All                  2167.0  676837.4998        NA   \n8707  2021-03-01       All                  2614.0  707835.1083        NA   \n8777  2021-04-01       All                  2277.0   727137.343        NA   \n\n     Prime_Rate Inflation          GDP Metal_Price       NASDAQ  \\\n18          7.4       2.8  33393.91068     262.182  2641.687163   \n49         7.25  3.274302  33414.60595      258.25  2474.819966   \n88         6.75  3.523191  33421.15412    250.7975  1999.363187   \n121       6.625       3.6  33411.95797       247.6  1929.581512   \n156        6.45  3.475476  33549.86515     254.802  2178.740467   \n...         ...       ...          ...         ...          ...   \n8598       2.45       0.7  45143.29965     669.806  12605.30953   \n8655       2.45       0.7  45461.59117      676.49   13195.8142   \n8689       2.45       0.7  45606.79326      678.01  13733.60573   \n8707       2.45       0.7  45806.79326     672.154  13190.96179   \n8777       2.45       0.7  46006.79326    683.0225  13889.21294   \n\n     Ontario_Immigrants_International Toronto_Median_Age UT_Total_Enrollment  \\\n18                            34801.0               36.8             45261.0   \n49                        37662.09142          36.820147             45261.0   \n88                        39796.62476          36.839195             45261.0   \n121                           41662.0          36.861226             45261.0   \n156                       42969.07156          36.883489             45261.0   \n...                               ...                ...                 ...   \n8598                          17281.0               40.4             82311.0   \n8655                          17281.0               40.4             83970.0   \n8689                          17281.0               40.4             83970.0   \n8707                          17281.0               40.4             83970.0   \n8777                          17281.0               40.4             83970.0   \n\n     Toronto_Participation_Rate Toronto_Employment_Rate Toronto_Population  \\\n18                         68.6                    65.0          4882618.0   \n49                         68.6                    64.2        4894687.054   \n88                         69.0                    64.7         4905287.46   \n121                        69.2                    65.0        4916690.735   \n156                        69.6                    65.4        4927393.091   \n...                         ...                     ...                ...   \n8598                       67.0                    59.7          6555205.0   \n8655                       66.7                    59.7          6555205.0   \n8689                       65.8                    58.8          6555205.0   \n8707                       65.1                    58.4          6555205.0   \n8777                       64.7                    58.4          6555205.0   \n\n     New_Units_Number_Planned New_Units_Number_Construction  \n18                     1457.0                         511.0  \n49                      946.0                         227.0  \n88                     1015.0                         387.0  \n121                    1503.0                        1151.0  \n156                    1810.0                         175.0  \n...                       ...                           ...  \n8598                   2876.0                        1903.0  \n8655                   4063.0                        1018.0  \n8689                   2783.0                        3929.0  \n8707                   4993.0                        5342.0  \n8777                   3986.0                        2271.0  \n\n[244 rows x 18 columns]",
      "text/html": "<div>\n<style scoped>\n    .dataframe tbody tr th:only-of-type {\n        vertical-align: middle;\n    }\n\n    .dataframe tbody tr th {\n        vertical-align: top;\n    }\n\n    .dataframe thead th {\n        text-align: right;\n    }\n</style>\n<table border=\"1\" class=\"dataframe\">\n  <thead>\n    <tr style=\"text-align: right;\">\n      <th></th>\n      <th>Date</th>\n      <th>Area_Code</th>\n      <th>Total_Condo_Sold_Number</th>\n      <th>Avg_Price</th>\n      <th>Med_Price</th>\n      <th>Prime_Rate</th>\n      <th>Inflation</th>\n      <th>GDP</th>\n      <th>Metal_Price</th>\n      <th>NASDAQ</th>\n      <th>Ontario_Immigrants_International</th>\n      <th>Toronto_Median_Age</th>\n      <th>UT_Total_Enrollment</th>\n      <th>Toronto_Participation_Rate</th>\n      <th>Toronto_Employment_Rate</th>\n      <th>Toronto_Population</th>\n      <th>New_Units_Number_Planned</th>\n      <th>New_Units_Number_Construction</th>\n    </tr>\n  </thead>\n  <tbody>\n    <tr>\n      <th>18</th>\n      <td>2001-01-01</td>\n      <td>All</td>\n      <td>528.0</td>\n      <td>185757.6686</td>\n      <td>NA</td>\n      <td>7.4</td>\n      <td>2.8</td>\n      <td>33393.91068</td>\n      <td>262.182</td>\n      <td>2641.687163</td>\n      <td>34801.0</td>\n      <td>36.8</td>\n      <td>45261.0</td>\n      <td>68.6</td>\n      <td>65.0</td>\n      <td>4882618.0</td>\n      <td>1457.0</td>\n      <td>511.0</td>\n    </tr>\n    <tr>\n      <th>49</th>\n      <td>2001-02-01</td>\n      <td>All</td>\n      <td>732.0</td>\n      <td>189990.7036</td>\n      <td>NA</td>\n      <td>7.25</td>\n      <td>3.274302</td>\n      <td>33414.60595</td>\n      <td>258.25</td>\n      <td>2474.819966</td>\n      <td>37662.09142</td>\n      <td>36.820147</td>\n      <td>45261.0</td>\n      <td>68.6</td>\n      <td>64.2</td>\n      <td>4894687.054</td>\n      <td>946.0</td>\n      <td>227.0</td>\n    </tr>\n    <tr>\n      <th>88</th>\n      <td>2001-03-01</td>\n      <td>All</td>\n      <td>925.0</td>\n      <td>191476.2205</td>\n      <td>NA</td>\n      <td>6.75</td>\n      <td>3.523191</td>\n      <td>33421.15412</td>\n      <td>250.7975</td>\n      <td>1999.363187</td>\n      <td>39796.62476</td>\n      <td>36.839195</td>\n      <td>45261.0</td>\n      <td>69.0</td>\n      <td>64.7</td>\n      <td>4905287.46</td>\n      <td>1015.0</td>\n      <td>387.0</td>\n    </tr>\n    <tr>\n      <th>121</th>\n      <td>2001-04-01</td>\n      <td>All</td>\n      <td>836.0</td>\n      <td>189802.6914</td>\n      <td>NA</td>\n      <td>6.625</td>\n      <td>3.6</td>\n      <td>33411.95797</td>\n      <td>247.6</td>\n      <td>1929.581512</td>\n      <td>41662.0</td>\n      <td>36.861226</td>\n      <td>45261.0</td>\n      <td>69.2</td>\n      <td>65.0</td>\n      <td>4916690.735</td>\n      <td>1503.0</td>\n      <td>1151.0</td>\n    </tr>\n    <tr>\n      <th>156</th>\n      <td>2001-05-01</td>\n      <td>All</td>\n      <td>958.0</td>\n      <td>191658.3372</td>\n      <td>NA</td>\n      <td>6.45</td>\n      <td>3.475476</td>\n      <td>33549.86515</td>\n      <td>254.802</td>\n      <td>2178.740467</td>\n      <td>42969.07156</td>\n      <td>36.883489</td>\n      <td>45261.0</td>\n      <td>69.6</td>\n      <td>65.4</td>\n      <td>4927393.091</td>\n      <td>1810.0</td>\n      <td>175.0</td>\n    </tr>\n    <tr>\n      <th>...</th>\n      <td>...</td>\n      <td>...</td>\n      <td>...</td>\n      <td>...</td>\n      <td>...</td>\n      <td>...</td>\n      <td>...</td>\n      <td>...</td>\n      <td>...</td>\n      <td>...</td>\n      <td>...</td>\n      <td>...</td>\n      <td>...</td>\n      <td>...</td>\n      <td>...</td>\n      <td>...</td>\n      <td>...</td>\n      <td>...</td>\n    </tr>\n    <tr>\n      <th>8598</th>\n      <td>2020-12-01</td>\n      <td>All</td>\n      <td>1551.0</td>\n      <td>625828.1154</td>\n      <td>NA</td>\n      <td>2.45</td>\n      <td>0.7</td>\n      <td>45143.29965</td>\n      <td>669.806</td>\n      <td>12605.30953</td>\n      <td>17281.0</td>\n      <td>40.4</td>\n      <td>82311.0</td>\n      <td>67.0</td>\n      <td>59.7</td>\n      <td>6555205.0</td>\n      <td>2876.0</td>\n      <td>1903.0</td>\n    </tr>\n    <tr>\n      <th>8655</th>\n      <td>2021-01-01</td>\n      <td>All</td>\n      <td>1703.0</td>\n      <td>624885.623</td>\n      <td>NA</td>\n      <td>2.45</td>\n      <td>0.7</td>\n      <td>45461.59117</td>\n      <td>676.49</td>\n      <td>13195.8142</td>\n      <td>17281.0</td>\n      <td>40.4</td>\n      <td>83970.0</td>\n      <td>66.7</td>\n      <td>59.7</td>\n      <td>6555205.0</td>\n      <td>4063.0</td>\n      <td>1018.0</td>\n    </tr>\n    <tr>\n      <th>8689</th>\n      <td>2021-02-01</td>\n      <td>All</td>\n      <td>2167.0</td>\n      <td>676837.4998</td>\n      <td>NA</td>\n      <td>2.45</td>\n      <td>0.7</td>\n      <td>45606.79326</td>\n      <td>678.01</td>\n      <td>13733.60573</td>\n      <td>17281.0</td>\n      <td>40.4</td>\n      <td>83970.0</td>\n      <td>65.8</td>\n      <td>58.8</td>\n      <td>6555205.0</td>\n      <td>2783.0</td>\n      <td>3929.0</td>\n    </tr>\n    <tr>\n      <th>8707</th>\n      <td>2021-03-01</td>\n      <td>All</td>\n      <td>2614.0</td>\n      <td>707835.1083</td>\n      <td>NA</td>\n      <td>2.45</td>\n      <td>0.7</td>\n      <td>45806.79326</td>\n      <td>672.154</td>\n      <td>13190.96179</td>\n      <td>17281.0</td>\n      <td>40.4</td>\n      <td>83970.0</td>\n      <td>65.1</td>\n      <td>58.4</td>\n      <td>6555205.0</td>\n      <td>4993.0</td>\n      <td>5342.0</td>\n    </tr>\n    <tr>\n      <th>8777</th>\n      <td>2021-04-01</td>\n      <td>All</td>\n      <td>2277.0</td>\n      <td>727137.343</td>\n      <td>NA</td>\n      <td>2.45</td>\n      <td>0.7</td>\n      <td>46006.79326</td>\n      <td>683.0225</td>\n      <td>13889.21294</td>\n      <td>17281.0</td>\n      <td>40.4</td>\n      <td>83970.0</td>\n      <td>64.7</td>\n      <td>58.4</td>\n      <td>6555205.0</td>\n      <td>3986.0</td>\n      <td>2271.0</td>\n    </tr>\n  </tbody>\n</table>\n<p>244 rows × 18 columns</p>\n</div>"
     },
     "execution_count": 45,
     "metadata": {},
     "output_type": "execute_result"
    }
   ],
   "source": [
    "df1[df1['Area_Code']==\"All\"]"
   ],
   "metadata": {
    "collapsed": false,
    "pycharm": {
     "name": "#%%\n"
    }
   }
  },
  {
   "cell_type": "code",
   "execution_count": 46,
   "outputs": [
    {
     "data": {
      "text/plain": "          Date Area_Code Total_Condo_Sold_Number Avg_Price Med_Price  \\\n0   2001-01-01       E02                     5.0  214180.0  229000.0   \n1   2001-01-01       W09                    15.0  108467.0   93000.0   \n2   2001-01-01       W08                    18.0  218839.0  150000.0   \n3   2001-01-01       W07                     1.0  179500.0  179500.0   \n4   2001-01-01       W06                    15.0  224660.0  190000.0   \n5   2001-01-01       E06                     0.0       0.0       0.0   \n6   2001-01-01       W05                    17.0  107088.0  117000.0   \n7   2001-01-01       W03                     4.0  126625.0  116500.0   \n8   2001-01-01       W01                     4.0  188875.0  188250.0   \n9   2001-01-01       E11                    24.0  115948.0  117450.0   \n10  2001-01-01       E10                     3.0  119300.0  124000.0   \n11  2001-01-01       E09                    28.0  155529.0  155950.0   \n12  2001-01-01       E08                    18.0  142147.0  131500.0   \n13  2001-01-01       W04                    17.0  111253.0  116500.0   \n14  2001-01-01       C01                    63.0  274706.0  200000.0   \n15  2001-01-01       E03                    23.0  134693.0  127000.0   \n16  2001-01-01       W10                    25.0  118380.0  120000.0   \n17  2001-01-01       C02                     8.0  339563.0  249000.0   \n\n   Prime_Rate Inflation          GDP Metal_Price       NASDAQ  \\\n0         7.4       2.8  33393.91068     262.182  2641.687163   \n1         7.4       2.8  33393.91068     262.182  2641.687163   \n2         7.4       2.8  33393.91068     262.182  2641.687163   \n3         7.4       2.8  33393.91068     262.182  2641.687163   \n4         7.4       2.8  33393.91068     262.182  2641.687163   \n5         7.4       2.8  33393.91068     262.182  2641.687163   \n6         7.4       2.8  33393.91068     262.182  2641.687163   \n7         7.4       2.8  33393.91068     262.182  2641.687163   \n8         7.4       2.8  33393.91068     262.182  2641.687163   \n9         7.4       2.8  33393.91068     262.182  2641.687163   \n10        7.4       2.8  33393.91068     262.182  2641.687163   \n11        7.4       2.8  33393.91068     262.182  2641.687163   \n12        7.4       2.8  33393.91068     262.182  2641.687163   \n13        7.4       2.8  33393.91068     262.182  2641.687163   \n14        7.4       2.8  33393.91068     262.182  2641.687163   \n15        7.4       2.8  33393.91068     262.182  2641.687163   \n16        7.4       2.8  33393.91068     262.182  2641.687163   \n17        7.4       2.8  33393.91068     262.182  2641.687163   \n\n   Ontario_Immigrants_International Toronto_Median_Age UT_Total_Enrollment  \\\n0                           34801.0               36.8             45261.0   \n1                           34801.0               36.8             45261.0   \n2                           34801.0               36.8             45261.0   \n3                           34801.0               36.8             45261.0   \n4                           34801.0               36.8             45261.0   \n5                           34801.0               36.8             45261.0   \n6                           34801.0               36.8             45261.0   \n7                           34801.0               36.8             45261.0   \n8                           34801.0               36.8             45261.0   \n9                           34801.0               36.8             45261.0   \n10                          34801.0               36.8             45261.0   \n11                          34801.0               36.8             45261.0   \n12                          34801.0               36.8             45261.0   \n13                          34801.0               36.8             45261.0   \n14                          34801.0               36.8             45261.0   \n15                          34801.0               36.8             45261.0   \n16                          34801.0               36.8             45261.0   \n17                          34801.0               36.8             45261.0   \n\n   Toronto_Participation_Rate Toronto_Employment_Rate Toronto_Population  \\\n0                        68.6                    65.0          4882618.0   \n1                        68.6                    65.0          4882618.0   \n2                        68.6                    65.0          4882618.0   \n3                        68.6                    65.0          4882618.0   \n4                        68.6                    65.0          4882618.0   \n5                        68.6                    65.0          4882618.0   \n6                        68.6                    65.0          4882618.0   \n7                        68.6                    65.0          4882618.0   \n8                        68.6                    65.0          4882618.0   \n9                        68.6                    65.0          4882618.0   \n10                       68.6                    65.0          4882618.0   \n11                       68.6                    65.0          4882618.0   \n12                       68.6                    65.0          4882618.0   \n13                       68.6                    65.0          4882618.0   \n14                       68.6                    65.0          4882618.0   \n15                       68.6                    65.0          4882618.0   \n16                       68.6                    65.0          4882618.0   \n17                       68.6                    65.0          4882618.0   \n\n   New_Units_Number_Planned New_Units_Number_Construction  \n0                    1457.0                         511.0  \n1                    1457.0                         511.0  \n2                    1457.0                         511.0  \n3                    1457.0                         511.0  \n4                    1457.0                         511.0  \n5                    1457.0                         511.0  \n6                    1457.0                         511.0  \n7                    1457.0                         511.0  \n8                    1457.0                         511.0  \n9                    1457.0                         511.0  \n10                   1457.0                         511.0  \n11                   1457.0                         511.0  \n12                   1457.0                         511.0  \n13                   1457.0                         511.0  \n14                   1457.0                         511.0  \n15                   1457.0                         511.0  \n16                   1457.0                         511.0  \n17                   1457.0                         511.0  ",
      "text/html": "<div>\n<style scoped>\n    .dataframe tbody tr th:only-of-type {\n        vertical-align: middle;\n    }\n\n    .dataframe tbody tr th {\n        vertical-align: top;\n    }\n\n    .dataframe thead th {\n        text-align: right;\n    }\n</style>\n<table border=\"1\" class=\"dataframe\">\n  <thead>\n    <tr style=\"text-align: right;\">\n      <th></th>\n      <th>Date</th>\n      <th>Area_Code</th>\n      <th>Total_Condo_Sold_Number</th>\n      <th>Avg_Price</th>\n      <th>Med_Price</th>\n      <th>Prime_Rate</th>\n      <th>Inflation</th>\n      <th>GDP</th>\n      <th>Metal_Price</th>\n      <th>NASDAQ</th>\n      <th>Ontario_Immigrants_International</th>\n      <th>Toronto_Median_Age</th>\n      <th>UT_Total_Enrollment</th>\n      <th>Toronto_Participation_Rate</th>\n      <th>Toronto_Employment_Rate</th>\n      <th>Toronto_Population</th>\n      <th>New_Units_Number_Planned</th>\n      <th>New_Units_Number_Construction</th>\n    </tr>\n  </thead>\n  <tbody>\n    <tr>\n      <th>0</th>\n      <td>2001-01-01</td>\n      <td>E02</td>\n      <td>5.0</td>\n      <td>214180.0</td>\n      <td>229000.0</td>\n      <td>7.4</td>\n      <td>2.8</td>\n      <td>33393.91068</td>\n      <td>262.182</td>\n      <td>2641.687163</td>\n      <td>34801.0</td>\n      <td>36.8</td>\n      <td>45261.0</td>\n      <td>68.6</td>\n      <td>65.0</td>\n      <td>4882618.0</td>\n      <td>1457.0</td>\n      <td>511.0</td>\n    </tr>\n    <tr>\n      <th>1</th>\n      <td>2001-01-01</td>\n      <td>W09</td>\n      <td>15.0</td>\n      <td>108467.0</td>\n      <td>93000.0</td>\n      <td>7.4</td>\n      <td>2.8</td>\n      <td>33393.91068</td>\n      <td>262.182</td>\n      <td>2641.687163</td>\n      <td>34801.0</td>\n      <td>36.8</td>\n      <td>45261.0</td>\n      <td>68.6</td>\n      <td>65.0</td>\n      <td>4882618.0</td>\n      <td>1457.0</td>\n      <td>511.0</td>\n    </tr>\n    <tr>\n      <th>2</th>\n      <td>2001-01-01</td>\n      <td>W08</td>\n      <td>18.0</td>\n      <td>218839.0</td>\n      <td>150000.0</td>\n      <td>7.4</td>\n      <td>2.8</td>\n      <td>33393.91068</td>\n      <td>262.182</td>\n      <td>2641.687163</td>\n      <td>34801.0</td>\n      <td>36.8</td>\n      <td>45261.0</td>\n      <td>68.6</td>\n      <td>65.0</td>\n      <td>4882618.0</td>\n      <td>1457.0</td>\n      <td>511.0</td>\n    </tr>\n    <tr>\n      <th>3</th>\n      <td>2001-01-01</td>\n      <td>W07</td>\n      <td>1.0</td>\n      <td>179500.0</td>\n      <td>179500.0</td>\n      <td>7.4</td>\n      <td>2.8</td>\n      <td>33393.91068</td>\n      <td>262.182</td>\n      <td>2641.687163</td>\n      <td>34801.0</td>\n      <td>36.8</td>\n      <td>45261.0</td>\n      <td>68.6</td>\n      <td>65.0</td>\n      <td>4882618.0</td>\n      <td>1457.0</td>\n      <td>511.0</td>\n    </tr>\n    <tr>\n      <th>4</th>\n      <td>2001-01-01</td>\n      <td>W06</td>\n      <td>15.0</td>\n      <td>224660.0</td>\n      <td>190000.0</td>\n      <td>7.4</td>\n      <td>2.8</td>\n      <td>33393.91068</td>\n      <td>262.182</td>\n      <td>2641.687163</td>\n      <td>34801.0</td>\n      <td>36.8</td>\n      <td>45261.0</td>\n      <td>68.6</td>\n      <td>65.0</td>\n      <td>4882618.0</td>\n      <td>1457.0</td>\n      <td>511.0</td>\n    </tr>\n    <tr>\n      <th>5</th>\n      <td>2001-01-01</td>\n      <td>E06</td>\n      <td>0.0</td>\n      <td>0.0</td>\n      <td>0.0</td>\n      <td>7.4</td>\n      <td>2.8</td>\n      <td>33393.91068</td>\n      <td>262.182</td>\n      <td>2641.687163</td>\n      <td>34801.0</td>\n      <td>36.8</td>\n      <td>45261.0</td>\n      <td>68.6</td>\n      <td>65.0</td>\n      <td>4882618.0</td>\n      <td>1457.0</td>\n      <td>511.0</td>\n    </tr>\n    <tr>\n      <th>6</th>\n      <td>2001-01-01</td>\n      <td>W05</td>\n      <td>17.0</td>\n      <td>107088.0</td>\n      <td>117000.0</td>\n      <td>7.4</td>\n      <td>2.8</td>\n      <td>33393.91068</td>\n      <td>262.182</td>\n      <td>2641.687163</td>\n      <td>34801.0</td>\n      <td>36.8</td>\n      <td>45261.0</td>\n      <td>68.6</td>\n      <td>65.0</td>\n      <td>4882618.0</td>\n      <td>1457.0</td>\n      <td>511.0</td>\n    </tr>\n    <tr>\n      <th>7</th>\n      <td>2001-01-01</td>\n      <td>W03</td>\n      <td>4.0</td>\n      <td>126625.0</td>\n      <td>116500.0</td>\n      <td>7.4</td>\n      <td>2.8</td>\n      <td>33393.91068</td>\n      <td>262.182</td>\n      <td>2641.687163</td>\n      <td>34801.0</td>\n      <td>36.8</td>\n      <td>45261.0</td>\n      <td>68.6</td>\n      <td>65.0</td>\n      <td>4882618.0</td>\n      <td>1457.0</td>\n      <td>511.0</td>\n    </tr>\n    <tr>\n      <th>8</th>\n      <td>2001-01-01</td>\n      <td>W01</td>\n      <td>4.0</td>\n      <td>188875.0</td>\n      <td>188250.0</td>\n      <td>7.4</td>\n      <td>2.8</td>\n      <td>33393.91068</td>\n      <td>262.182</td>\n      <td>2641.687163</td>\n      <td>34801.0</td>\n      <td>36.8</td>\n      <td>45261.0</td>\n      <td>68.6</td>\n      <td>65.0</td>\n      <td>4882618.0</td>\n      <td>1457.0</td>\n      <td>511.0</td>\n    </tr>\n    <tr>\n      <th>9</th>\n      <td>2001-01-01</td>\n      <td>E11</td>\n      <td>24.0</td>\n      <td>115948.0</td>\n      <td>117450.0</td>\n      <td>7.4</td>\n      <td>2.8</td>\n      <td>33393.91068</td>\n      <td>262.182</td>\n      <td>2641.687163</td>\n      <td>34801.0</td>\n      <td>36.8</td>\n      <td>45261.0</td>\n      <td>68.6</td>\n      <td>65.0</td>\n      <td>4882618.0</td>\n      <td>1457.0</td>\n      <td>511.0</td>\n    </tr>\n    <tr>\n      <th>10</th>\n      <td>2001-01-01</td>\n      <td>E10</td>\n      <td>3.0</td>\n      <td>119300.0</td>\n      <td>124000.0</td>\n      <td>7.4</td>\n      <td>2.8</td>\n      <td>33393.91068</td>\n      <td>262.182</td>\n      <td>2641.687163</td>\n      <td>34801.0</td>\n      <td>36.8</td>\n      <td>45261.0</td>\n      <td>68.6</td>\n      <td>65.0</td>\n      <td>4882618.0</td>\n      <td>1457.0</td>\n      <td>511.0</td>\n    </tr>\n    <tr>\n      <th>11</th>\n      <td>2001-01-01</td>\n      <td>E09</td>\n      <td>28.0</td>\n      <td>155529.0</td>\n      <td>155950.0</td>\n      <td>7.4</td>\n      <td>2.8</td>\n      <td>33393.91068</td>\n      <td>262.182</td>\n      <td>2641.687163</td>\n      <td>34801.0</td>\n      <td>36.8</td>\n      <td>45261.0</td>\n      <td>68.6</td>\n      <td>65.0</td>\n      <td>4882618.0</td>\n      <td>1457.0</td>\n      <td>511.0</td>\n    </tr>\n    <tr>\n      <th>12</th>\n      <td>2001-01-01</td>\n      <td>E08</td>\n      <td>18.0</td>\n      <td>142147.0</td>\n      <td>131500.0</td>\n      <td>7.4</td>\n      <td>2.8</td>\n      <td>33393.91068</td>\n      <td>262.182</td>\n      <td>2641.687163</td>\n      <td>34801.0</td>\n      <td>36.8</td>\n      <td>45261.0</td>\n      <td>68.6</td>\n      <td>65.0</td>\n      <td>4882618.0</td>\n      <td>1457.0</td>\n      <td>511.0</td>\n    </tr>\n    <tr>\n      <th>13</th>\n      <td>2001-01-01</td>\n      <td>W04</td>\n      <td>17.0</td>\n      <td>111253.0</td>\n      <td>116500.0</td>\n      <td>7.4</td>\n      <td>2.8</td>\n      <td>33393.91068</td>\n      <td>262.182</td>\n      <td>2641.687163</td>\n      <td>34801.0</td>\n      <td>36.8</td>\n      <td>45261.0</td>\n      <td>68.6</td>\n      <td>65.0</td>\n      <td>4882618.0</td>\n      <td>1457.0</td>\n      <td>511.0</td>\n    </tr>\n    <tr>\n      <th>14</th>\n      <td>2001-01-01</td>\n      <td>C01</td>\n      <td>63.0</td>\n      <td>274706.0</td>\n      <td>200000.0</td>\n      <td>7.4</td>\n      <td>2.8</td>\n      <td>33393.91068</td>\n      <td>262.182</td>\n      <td>2641.687163</td>\n      <td>34801.0</td>\n      <td>36.8</td>\n      <td>45261.0</td>\n      <td>68.6</td>\n      <td>65.0</td>\n      <td>4882618.0</td>\n      <td>1457.0</td>\n      <td>511.0</td>\n    </tr>\n    <tr>\n      <th>15</th>\n      <td>2001-01-01</td>\n      <td>E03</td>\n      <td>23.0</td>\n      <td>134693.0</td>\n      <td>127000.0</td>\n      <td>7.4</td>\n      <td>2.8</td>\n      <td>33393.91068</td>\n      <td>262.182</td>\n      <td>2641.687163</td>\n      <td>34801.0</td>\n      <td>36.8</td>\n      <td>45261.0</td>\n      <td>68.6</td>\n      <td>65.0</td>\n      <td>4882618.0</td>\n      <td>1457.0</td>\n      <td>511.0</td>\n    </tr>\n    <tr>\n      <th>16</th>\n      <td>2001-01-01</td>\n      <td>W10</td>\n      <td>25.0</td>\n      <td>118380.0</td>\n      <td>120000.0</td>\n      <td>7.4</td>\n      <td>2.8</td>\n      <td>33393.91068</td>\n      <td>262.182</td>\n      <td>2641.687163</td>\n      <td>34801.0</td>\n      <td>36.8</td>\n      <td>45261.0</td>\n      <td>68.6</td>\n      <td>65.0</td>\n      <td>4882618.0</td>\n      <td>1457.0</td>\n      <td>511.0</td>\n    </tr>\n    <tr>\n      <th>17</th>\n      <td>2001-01-01</td>\n      <td>C02</td>\n      <td>8.0</td>\n      <td>339563.0</td>\n      <td>249000.0</td>\n      <td>7.4</td>\n      <td>2.8</td>\n      <td>33393.91068</td>\n      <td>262.182</td>\n      <td>2641.687163</td>\n      <td>34801.0</td>\n      <td>36.8</td>\n      <td>45261.0</td>\n      <td>68.6</td>\n      <td>65.0</td>\n      <td>4882618.0</td>\n      <td>1457.0</td>\n      <td>511.0</td>\n    </tr>\n  </tbody>\n</table>\n</div>"
     },
     "execution_count": 46,
     "metadata": {},
     "output_type": "execute_result"
    }
   ],
   "source": [
    "df1[:18]"
   ],
   "metadata": {
    "collapsed": false,
    "pycharm": {
     "name": "#%%\n"
    }
   }
  },
  {
   "cell_type": "code",
   "execution_count": 47,
   "outputs": [
    {
     "data": {
      "text/plain": "Date                                2001-01-012001-01-012001-01-012001-01-012001-0...\nArea_Code                           E02W09W08W07W06E06W05W03W01E11E10E09E08W04C01E...\nTotal_Condo_Sold_Number                                                         288.0\nAvg_Price                                                                   2879753.0\nMed_Price                                                                   2604650.0\nPrime_Rate                                                                      133.2\nInflation                                                                        50.4\nGDP                                                                      601090.39224\nMetal_Price                                                                  4719.276\nNASDAQ                                                                   47550.368934\nOntario_Immigrants_International                                             626418.0\nToronto_Median_Age                                                              662.4\nUT_Total_Enrollment                                                          814698.0\nToronto_Participation_Rate                                                     1234.8\nToronto_Employment_Rate                                                        1170.0\nToronto_Population                                                         87887124.0\nNew_Units_Number_Planned                                                      26226.0\nNew_Units_Number_Construction                                                  9198.0\ndtype: object"
     },
     "execution_count": 47,
     "metadata": {},
     "output_type": "execute_result"
    }
   ],
   "source": [
    "df1[:18].sum()"
   ],
   "metadata": {
    "collapsed": false,
    "pycharm": {
     "name": "#%%\n"
    }
   }
  },
  {
   "cell_type": "code",
   "execution_count": 48,
   "outputs": [
    {
     "data": {
      "text/plain": "Total_Condo_Sold_Number             1.600000e+01\nAvg_Price                           1.599863e+05\nMed_Price                           1.447028e+05\nPrime_Rate                          7.400000e+00\nInflation                           2.800000e+00\nGDP                                 3.339391e+04\nMetal_Price                         2.621820e+02\nNASDAQ                              2.641687e+03\nOntario_Immigrants_International    3.480100e+04\nToronto_Median_Age                  3.680000e+01\nUT_Total_Enrollment                 4.526100e+04\nToronto_Participation_Rate          6.860000e+01\nToronto_Employment_Rate             6.500000e+01\nToronto_Population                  4.882618e+06\nNew_Units_Number_Planned            1.457000e+03\nNew_Units_Number_Construction       5.110000e+02\ndtype: float64"
     },
     "execution_count": 48,
     "metadata": {},
     "output_type": "execute_result"
    }
   ],
   "source": [
    "df1[:18].mean()"
   ],
   "metadata": {
    "collapsed": false,
    "pycharm": {
     "name": "#%%\n"
    }
   }
  },
  {
   "cell_type": "code",
   "execution_count": 49,
   "outputs": [
    {
     "data": {
      "text/plain": "Date                                 2001-01-01\nArea_Code                                   All\nTotal_Condo_Sold_Number                   528.0\nAvg_Price                           185757.6686\nMed_Price                                    NA\nPrime_Rate                                  7.4\nInflation                                   2.8\nGDP                                 33393.91068\nMetal_Price                             262.182\nNASDAQ                              2641.687163\nOntario_Immigrants_International        34801.0\nToronto_Median_Age                         36.8\nUT_Total_Enrollment                     45261.0\nToronto_Participation_Rate                 68.6\nToronto_Employment_Rate                    65.0\nToronto_Population                    4882618.0\nNew_Units_Number_Planned                 1457.0\nNew_Units_Number_Construction             511.0\nName: 18, dtype: object"
     },
     "execution_count": 49,
     "metadata": {},
     "output_type": "execute_result"
    }
   ],
   "source": [
    "df[18]\n"
   ],
   "metadata": {
    "collapsed": false,
    "pycharm": {
     "name": "#%%\n"
    }
   }
  },
  {
   "cell_type": "code",
   "execution_count": 50,
   "outputs": [],
   "source": [
    "Area_Code_list=df1['Area_Code'].unique()"
   ],
   "metadata": {
    "collapsed": false,
    "pycharm": {
     "name": "#%%\n"
    }
   }
  },
  {
   "cell_type": "code",
   "execution_count": 50,
   "outputs": [],
   "source": [],
   "metadata": {
    "collapsed": false,
    "pycharm": {
     "name": "#%%\n"
    }
   }
  },
  {
   "cell_type": "code",
   "execution_count": 51,
   "outputs": [
    {
     "data": {
      "text/plain": "36"
     },
     "execution_count": 51,
     "metadata": {},
     "output_type": "execute_result"
    }
   ],
   "source": [
    "len(Area_Code_list)"
   ],
   "metadata": {
    "collapsed": false,
    "pycharm": {
     "name": "#%%\n"
    }
   }
  },
  {
   "cell_type": "code",
   "execution_count": 52,
   "outputs": [
    {
     "data": {
      "text/plain": "(8778, 18)"
     },
     "execution_count": 52,
     "metadata": {},
     "output_type": "execute_result"
    }
   ],
   "source": [
    "df1.shape"
   ],
   "metadata": {
    "collapsed": false,
    "pycharm": {
     "name": "#%%\n"
    }
   }
  },
  {
   "cell_type": "code",
   "execution_count": 53,
   "outputs": [
    {
     "data": {
      "text/plain": "243.83333333333334"
     },
     "execution_count": 53,
     "metadata": {},
     "output_type": "execute_result"
    }
   ],
   "source": [
    "df1.shape[0]/len(Area_Code_list)"
   ],
   "metadata": {
    "collapsed": false,
    "pycharm": {
     "name": "#%%\n"
    }
   }
  },
  {
   "cell_type": "code",
   "execution_count": 54,
   "outputs": [],
   "source": [
    "ac_times=[]"
   ],
   "metadata": {
    "collapsed": false,
    "pycharm": {
     "name": "#%%\n"
    }
   }
  },
  {
   "cell_type": "code",
   "execution_count": 55,
   "outputs": [
    {
     "name": "stdout",
     "output_type": "stream",
     "text": [
      "E02: 244\n",
      "W09: 244\n",
      "W08: 244\n",
      "W07: 244\n",
      "W06: 244\n",
      "E06: 244\n",
      "W05: 244\n",
      "W03: 244\n",
      "W01: 244\n",
      "E11: 239\n",
      "E10: 243\n",
      "E09: 244\n",
      "E08: 244\n",
      "W04: 244\n",
      "C01: 244\n",
      "E03: 244\n",
      "W10: 244\n",
      "C02: 244\n",
      "All: 244\n",
      "W02: 244\n",
      "E01: 244\n",
      "C15: 244\n",
      "C14: 244\n",
      "C13: 244\n",
      "C12: 244\n",
      "C03: 244\n",
      "C10: 244\n",
      "E07: 244\n",
      "C08: 244\n",
      "C07: 244\n",
      "C06: 244\n",
      "C04: 244\n",
      "E04: 244\n",
      "C11: 244\n",
      "E05: 244\n",
      "C09: 244\n"
     ]
    }
   ],
   "source": [
    "for i in Area_Code_list:\n",
    "  print(f\"{i}: {df1[df1['Area_Code'] == i].shape[0]}\")\n",
    "  ac_times.append(df1[df1['Area_Code'] == i].shape[0])"
   ],
   "metadata": {
    "collapsed": false,
    "pycharm": {
     "name": "#%%\n"
    }
   }
  },
  {
   "cell_type": "code",
   "execution_count": 56,
   "outputs": [
    {
     "data": {
      "text/plain": "[244,\n 244,\n 244,\n 244,\n 244,\n 244,\n 244,\n 244,\n 244,\n 239,\n 243,\n 244,\n 244,\n 244,\n 244,\n 244,\n 244,\n 244,\n 244,\n 244,\n 244,\n 244,\n 244,\n 244,\n 244,\n 244,\n 244,\n 244,\n 244,\n 244,\n 244,\n 244,\n 244,\n 244,\n 244,\n 244]"
     },
     "execution_count": 56,
     "metadata": {},
     "output_type": "execute_result"
    }
   ],
   "source": [
    "ac_times"
   ],
   "metadata": {
    "collapsed": false,
    "pycharm": {
     "name": "#%%\n"
    }
   }
  },
  {
   "cell_type": "code",
   "execution_count": 57,
   "outputs": [
    {
     "data": {
      "text/plain": "244"
     },
     "execution_count": 57,
     "metadata": {},
     "output_type": "execute_result"
    }
   ],
   "source": [
    "max(ac_times)\n"
   ],
   "metadata": {
    "collapsed": false,
    "pycharm": {
     "name": "#%%\n"
    }
   }
  },
  {
   "cell_type": "code",
   "execution_count": 58,
   "outputs": [
    {
     "data": {
      "text/plain": "239"
     },
     "execution_count": 58,
     "metadata": {},
     "output_type": "execute_result"
    }
   ],
   "source": [
    "min(ac_times)\n"
   ],
   "metadata": {
    "collapsed": false,
    "pycharm": {
     "name": "#%%\n"
    }
   }
  },
  {
   "cell_type": "code",
   "execution_count": 59,
   "outputs": [
    {
     "name": "stdout",
     "output_type": "stream",
     "text": [
      "E11 239\n",
      "E10 243\n"
     ]
    }
   ],
   "source": [
    "for index,item in enumerate(ac_times):\n",
    "  if item!=244:\n",
    "    print(Area_Code_list[index],item)"
   ],
   "metadata": {
    "collapsed": false,
    "pycharm": {
     "name": "#%%\n"
    }
   }
  },
  {
   "cell_type": "code",
   "execution_count": 60,
   "outputs": [
    {
     "data": {
      "text/plain": "Index(['Date', 'Area_Code', 'Total_Condo_Sold_Number', 'Avg_Price',\n       'Med_Price', 'Prime_Rate', 'Inflation', 'GDP', 'Metal_Price', 'NASDAQ',\n       'Ontario_Immigrants_International', 'Toronto_Median_Age',\n       'UT_Total_Enrollment', 'Toronto_Participation_Rate',\n       'Toronto_Employment_Rate', 'Toronto_Population',\n       'New_Units_Number_Planned', 'New_Units_Number_Construction'],\n      dtype='object')"
     },
     "execution_count": 60,
     "metadata": {},
     "output_type": "execute_result"
    }
   ],
   "source": [
    "\n",
    "df1.columns"
   ],
   "metadata": {
    "collapsed": false,
    "pycharm": {
     "name": "#%%\n"
    }
   }
  },
  {
   "cell_type": "code",
   "execution_count": 61,
   "outputs": [
    {
     "data": {
      "text/plain": "          Date Area_Code Total_Condo_Sold_Number Avg_Price Med_Price  \\\n34  2001-01-01       E05                    27.0  172778.0  169000.0   \n35  2001-01-01       C09                     3.0  389000.0  400000.0   \n36  2001-02-01       C04                    18.0  300388.0  207500.0   \n37  2001-02-01       C06                     2.0  181950.0  181950.0   \n\n   Prime_Rate Inflation          GDP Metal_Price       NASDAQ  \\\n34        7.4       2.8  33393.91068     262.182  2641.687163   \n35        7.4       2.8  33393.91068     262.182  2641.687163   \n36       7.25  3.274302  33414.60595      258.25  2474.819966   \n37       7.25  3.274302  33414.60595      258.25  2474.819966   \n\n   Ontario_Immigrants_International Toronto_Median_Age UT_Total_Enrollment  \\\n34                          34801.0               36.8             45261.0   \n35                          34801.0               36.8             45261.0   \n36                      37662.09142          36.820147             45261.0   \n37                      37662.09142          36.820147             45261.0   \n\n   Toronto_Participation_Rate Toronto_Employment_Rate Toronto_Population  \\\n34                       68.6                    65.0          4882618.0   \n35                       68.6                    65.0          4882618.0   \n36                       68.6                    64.2        4894687.054   \n37                       68.6                    64.2        4894687.054   \n\n   New_Units_Number_Planned New_Units_Number_Construction  \n34                   1457.0                         511.0  \n35                   1457.0                         511.0  \n36                    946.0                         227.0  \n37                    946.0                         227.0  ",
      "text/html": "<div>\n<style scoped>\n    .dataframe tbody tr th:only-of-type {\n        vertical-align: middle;\n    }\n\n    .dataframe tbody tr th {\n        vertical-align: top;\n    }\n\n    .dataframe thead th {\n        text-align: right;\n    }\n</style>\n<table border=\"1\" class=\"dataframe\">\n  <thead>\n    <tr style=\"text-align: right;\">\n      <th></th>\n      <th>Date</th>\n      <th>Area_Code</th>\n      <th>Total_Condo_Sold_Number</th>\n      <th>Avg_Price</th>\n      <th>Med_Price</th>\n      <th>Prime_Rate</th>\n      <th>Inflation</th>\n      <th>GDP</th>\n      <th>Metal_Price</th>\n      <th>NASDAQ</th>\n      <th>Ontario_Immigrants_International</th>\n      <th>Toronto_Median_Age</th>\n      <th>UT_Total_Enrollment</th>\n      <th>Toronto_Participation_Rate</th>\n      <th>Toronto_Employment_Rate</th>\n      <th>Toronto_Population</th>\n      <th>New_Units_Number_Planned</th>\n      <th>New_Units_Number_Construction</th>\n    </tr>\n  </thead>\n  <tbody>\n    <tr>\n      <th>34</th>\n      <td>2001-01-01</td>\n      <td>E05</td>\n      <td>27.0</td>\n      <td>172778.0</td>\n      <td>169000.0</td>\n      <td>7.4</td>\n      <td>2.8</td>\n      <td>33393.91068</td>\n      <td>262.182</td>\n      <td>2641.687163</td>\n      <td>34801.0</td>\n      <td>36.8</td>\n      <td>45261.0</td>\n      <td>68.6</td>\n      <td>65.0</td>\n      <td>4882618.0</td>\n      <td>1457.0</td>\n      <td>511.0</td>\n    </tr>\n    <tr>\n      <th>35</th>\n      <td>2001-01-01</td>\n      <td>C09</td>\n      <td>3.0</td>\n      <td>389000.0</td>\n      <td>400000.0</td>\n      <td>7.4</td>\n      <td>2.8</td>\n      <td>33393.91068</td>\n      <td>262.182</td>\n      <td>2641.687163</td>\n      <td>34801.0</td>\n      <td>36.8</td>\n      <td>45261.0</td>\n      <td>68.6</td>\n      <td>65.0</td>\n      <td>4882618.0</td>\n      <td>1457.0</td>\n      <td>511.0</td>\n    </tr>\n    <tr>\n      <th>36</th>\n      <td>2001-02-01</td>\n      <td>C04</td>\n      <td>18.0</td>\n      <td>300388.0</td>\n      <td>207500.0</td>\n      <td>7.25</td>\n      <td>3.274302</td>\n      <td>33414.60595</td>\n      <td>258.25</td>\n      <td>2474.819966</td>\n      <td>37662.09142</td>\n      <td>36.820147</td>\n      <td>45261.0</td>\n      <td>68.6</td>\n      <td>64.2</td>\n      <td>4894687.054</td>\n      <td>946.0</td>\n      <td>227.0</td>\n    </tr>\n    <tr>\n      <th>37</th>\n      <td>2001-02-01</td>\n      <td>C06</td>\n      <td>2.0</td>\n      <td>181950.0</td>\n      <td>181950.0</td>\n      <td>7.25</td>\n      <td>3.274302</td>\n      <td>33414.60595</td>\n      <td>258.25</td>\n      <td>2474.819966</td>\n      <td>37662.09142</td>\n      <td>36.820147</td>\n      <td>45261.0</td>\n      <td>68.6</td>\n      <td>64.2</td>\n      <td>4894687.054</td>\n      <td>946.0</td>\n      <td>227.0</td>\n    </tr>\n  </tbody>\n</table>\n</div>"
     },
     "execution_count": 61,
     "metadata": {},
     "output_type": "execute_result"
    }
   ],
   "source": [
    "df1[34:38]"
   ],
   "metadata": {
    "collapsed": false,
    "pycharm": {
     "name": "#%%\n"
    }
   }
  },
  {
   "cell_type": "code",
   "execution_count": 62,
   "outputs": [],
   "source": [
    "df1.to_csv(\"df1.csv\")\n"
   ],
   "metadata": {
    "collapsed": false,
    "pycharm": {
     "name": "#%%\n"
    }
   }
  },
  {
   "cell_type": "code",
   "execution_count": 63,
   "outputs": [
    {
     "name": "stdout",
     "output_type": "stream",
     "text": [
      "Date: 244\n",
      "Area_Code: 36\n",
      "Total_Condo_Sold_Number: 570\n",
      "Avg_Price: 8465\n",
      "Med_Price: 2662\n",
      "Prime_Rate: 63\n",
      "Inflation: 188\n",
      "GDP: 244\n",
      "Metal_Price: 244\n",
      "NASDAQ: 244\n",
      "Ontario_Immigrants_International: 238\n",
      "Toronto_Median_Age: 226\n",
      "UT_Total_Enrollment: 21\n",
      "Toronto_Participation_Rate: 60\n",
      "Toronto_Employment_Rate: 63\n",
      "Toronto_Population: 229\n",
      "New_Units_Number_Planned: 231\n",
      "New_Units_Number_Construction: 239\n"
     ]
    }
   ],
   "source": [
    "for i in df1.columns:\n",
    "  print(f\"{i}: {len(df1[i].unique())}\")# 只有UT那个是跟年有关的，其他都不是，就不分开搞了"
   ],
   "metadata": {
    "collapsed": false,
    "pycharm": {
     "name": "#%%\n"
    }
   }
  },
  {
   "cell_type": "code",
   "execution_count": 64,
   "outputs": [
    {
     "data": {
      "text/plain": "(8778, 18)"
     },
     "execution_count": 64,
     "metadata": {},
     "output_type": "execute_result"
    }
   ],
   "source": [
    "df1.shape"
   ],
   "metadata": {
    "collapsed": false,
    "pycharm": {
     "name": "#%%\n"
    }
   }
  },
  {
   "cell_type": "code",
   "execution_count": 65,
   "outputs": [
    {
     "name": "stdout",
     "output_type": "stream",
     "text": [
      "2001-01-01\n",
      "2001-02-01\n",
      "2001-03-01\n",
      "2001-04-01\n",
      "2001-05-01\n",
      "2001-06-01\n",
      "2001-07-01\n",
      "2001-08-01\n",
      "2001-09-01\n",
      "2001-10-01\n",
      "2001-11-01\n",
      "2001-12-01\n",
      "2002-01-01\n",
      "2002-02-01\n",
      "2002-03-01\n",
      "2002-04-01\n",
      "2002-05-01\n",
      "2002-06-01\n",
      "2002-07-01\n",
      "2002-08-01\n",
      "2002-09-01\n",
      "2002-10-01\n",
      "2002-11-01\n",
      "2002-12-01\n",
      "2003-01-01\n",
      "2003-02-01\n",
      "2003-03-01\n",
      "2003-04-01\n",
      "2003-05-01\n",
      "2003-06-01\n",
      "2003-07-01\n",
      "2003-08-01\n",
      "2003-09-01\n",
      "2003-10-01\n",
      "2003-11-01\n",
      "2003-12-01\n",
      "2004-01-01\n",
      "2004-02-01\n",
      "2004-03-01\n",
      "2004-04-01\n",
      "2004-05-01\n",
      "2004-06-01\n",
      "2004-07-01\n",
      "2004-08-01\n",
      "2004-09-01\n",
      "2004-10-01\n",
      "2004-11-01\n",
      "2004-12-01\n",
      "2005-01-01\n",
      "2005-02-01\n",
      "2005-03-01\n",
      "2005-04-01\n",
      "2005-05-01\n",
      "2005-06-01\n",
      "2005-07-01\n",
      "2005-08-01\n",
      "2005-09-01\n",
      "2005-10-01\n",
      "2005-11-01\n",
      "2005-12-01\n",
      "2006-01-01\n",
      "2006-02-01\n",
      "2006-03-01\n",
      "2006-04-01\n",
      "2006-05-01\n",
      "2006-06-01\n",
      "2006-07-01\n",
      "2006-08-01\n",
      "2006-09-01\n",
      "2006-10-01\n",
      "2006-11-01\n",
      "2006-12-01\n",
      "2007-01-01\n",
      "2007-02-01\n",
      "2007-03-01\n",
      "2007-04-01\n",
      "2007-05-01\n",
      "2007-06-01\n",
      "2007-07-01\n",
      "2007-08-01\n",
      "2007-09-01\n",
      "2007-10-01\n",
      "2007-11-01\n",
      "2007-12-01\n",
      "2008-01-01\n",
      "2008-02-01\n",
      "2008-03-01\n",
      "2008-04-01\n",
      "2008-05-01\n",
      "2008-06-01\n",
      "2008-07-01\n",
      "2008-08-01\n",
      "2008-09-01\n",
      "2008-10-01\n",
      "2008-11-01\n",
      "2008-12-01\n",
      "2009-01-01\n",
      "2009-02-01\n",
      "2009-03-01\n",
      "2009-04-01\n",
      "2009-05-01\n",
      "2009-06-01\n",
      "2009-07-01\n",
      "2009-08-01\n",
      "2009-09-01\n",
      "2009-10-01\n",
      "2009-11-01\n",
      "2009-12-01\n",
      "2010-01-01\n",
      "2010-02-01\n",
      "2010-03-01\n",
      "2010-04-01\n",
      "2010-05-01\n",
      "2010-06-01\n",
      "2010-07-01\n",
      "2010-08-01\n",
      "2010-09-01\n",
      "2010-10-01\n",
      "2010-11-01\n",
      "2010-12-01\n",
      "2011-01-01\n",
      "2011-02-01\n",
      "2011-03-01\n",
      "2011-04-01\n",
      "2011-05-01\n",
      "2011-06-01\n",
      "2011-07-01\n",
      "2011-08-01\n",
      "2011-09-01\n",
      "2011-10-01\n",
      "2011-11-01\n",
      "2011-12-01\n",
      "2012-01-01\n",
      "2012-02-01\n",
      "2012-03-01\n",
      "2012-04-01\n",
      "2012-05-01\n",
      "2012-06-01\n",
      "2012-07-01\n",
      "2012-08-01\n",
      "2012-09-01\n",
      "2012-10-01\n",
      "2012-11-01\n",
      "2012-12-01\n",
      "2013-01-01\n",
      "2013-02-01\n",
      "2013-03-01\n",
      "2013-04-01\n",
      "2013-05-01\n",
      "2013-06-01\n",
      "2013-07-01\n",
      "2013-08-01\n",
      "2013-09-01\n",
      "2013-10-01\n",
      "2013-11-01\n",
      "2013-12-01\n",
      "2014-01-01\n",
      "2014-02-01\n",
      "2014-03-01\n",
      "2014-04-01\n",
      "2014-05-01\n",
      "2014-06-01\n",
      "2014-07-01\n",
      "2014-08-01\n",
      "2014-09-01\n",
      "2014-10-01\n",
      "2014-11-01\n",
      "2014-12-01\n",
      "2015-01-01\n",
      "2015-02-01\n",
      "2015-03-01\n",
      "2015-04-01\n",
      "2015-05-01\n",
      "2015-06-01\n",
      "2015-07-01\n",
      "2015-08-01\n",
      "2015-09-01\n",
      "2015-10-01\n",
      "2015-11-01\n",
      "2015-12-01\n",
      "2016-01-01\n",
      "2016-02-01\n",
      "2016-03-01\n",
      "2016-04-01\n",
      "2016-05-01\n",
      "2016-06-01\n",
      "2016-07-01\n",
      "2016-08-01\n",
      "2016-09-01\n",
      "2016-10-01\n",
      "2016-11-01\n",
      "2016-12-01\n",
      "2017-01-01\n",
      "2017-02-01\n",
      "2017-03-01\n",
      "2017-04-01\n",
      "2017-05-01\n",
      "2017-06-01\n",
      "2017-07-01\n",
      "2017-08-01\n",
      "2017-09-01\n",
      "2017-10-01\n",
      "2017-11-01\n",
      "2017-12-01\n",
      "2018-01-01\n",
      "2018-02-01\n",
      "2018-03-01\n",
      "2018-04-01\n",
      "2018-05-01\n",
      "2018-06-01\n",
      "2018-07-01\n",
      "2018-08-01\n",
      "2018-09-01\n",
      "2018-10-01\n",
      "2018-11-01\n",
      "2018-12-01\n",
      "2019-01-01\n",
      "2019-02-01\n",
      "2019-03-01\n",
      "2019-04-01\n",
      "2019-05-01\n",
      "2019-06-01\n",
      "2019-07-01\n",
      "2019-08-01\n",
      "2019-09-01\n",
      "2019-10-01\n",
      "2019-11-01\n",
      "2019-12-01\n",
      "2020-01-01\n",
      "2020-02-01\n",
      "2020-03-01\n",
      "2020-04-01\n",
      "2020-05-01\n",
      "2020-06-01\n",
      "2020-07-01\n",
      "2020-08-01\n",
      "2020-09-01\n",
      "2020-10-01\n",
      "2020-11-01\n",
      "2020-12-01\n",
      "2021-01-01\n",
      "2021-02-01\n",
      "2021-03-01\n",
      "2021-04-01\n"
     ]
    }
   ],
   "source": [
    "for i in df1['Date'].unique():\n",
    "  print(i)"
   ],
   "metadata": {
    "collapsed": false,
    "pycharm": {
     "name": "#%%\n"
    }
   }
  },
  {
   "cell_type": "code",
   "execution_count": 66,
   "outputs": [],
   "source": [
    "datelist=df1['Date'].unique()"
   ],
   "metadata": {
    "collapsed": false,
    "pycharm": {
     "name": "#%%\n"
    }
   }
  },
  {
   "cell_type": "code",
   "execution_count": null,
   "outputs": [],
   "source": [],
   "metadata": {
    "collapsed": false,
    "pycharm": {
     "name": "#%%\n"
    }
   }
  }
 ],
 "metadata": {
  "kernelspec": {
   "display_name": "Python 3",
   "language": "python",
   "name": "python3"
  },
  "language_info": {
   "codemirror_mode": {
    "name": "ipython",
    "version": 2
   },
   "file_extension": ".py",
   "mimetype": "text/x-python",
   "name": "python",
   "nbconvert_exporter": "python",
   "pygments_lexer": "ipython2",
   "version": "2.7.6"
  }
 },
 "nbformat": 4,
 "nbformat_minor": 0
}