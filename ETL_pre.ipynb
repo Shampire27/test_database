{
 "cells": [
  {
   "cell_type": "code",
   "execution_count": 1,
   "metadata": {
    "collapsed": true
   },
   "outputs": [],
   "source": [
    "import pandas as pd\n",
    "import sqlalchemy\n",
    "import datetime"
   ]
  },
  {
   "cell_type": "code",
   "execution_count": 1,
   "outputs": [],
   "source": [],
   "metadata": {
    "collapsed": false,
    "pycharm": {
     "name": "#%%\n"
    }
   }
  },
  {
   "cell_type": "code",
   "execution_count": 2,
   "outputs": [],
   "source": [
    "from sqlalchemy import create_engine\n",
    "\n",
    "from sqlalchemy.orm import declarative_base,Session\n",
    "from sqlalchemy import Column, Integer, String,Float,DateTime,ForeignKey"
   ],
   "metadata": {
    "collapsed": false,
    "pycharm": {
     "name": "#%%\n"
    }
   }
  },
  {
   "cell_type": "code",
   "execution_count": 3,
   "outputs": [],
   "source": [
    "username=input(\"username\")\n",
    "password=input(\"password\")\n",
    "ip_address=\"aws-mysql-ssaca.cssuvkukhmkq.us-east-2.rds.amazonaws.com\"\n",
    "port_id=\"3306\"\n",
    "database_name=\"test_database\""
   ],
   "metadata": {
    "collapsed": false,
    "pycharm": {
     "name": "#%%\n"
    }
   }
  },
  {
   "cell_type": "code",
   "execution_count": 4,
   "outputs": [],
   "source": [
    "engine = create_engine(f'mysql+pymysql://{username}:{password}@{ip_address}:{port_id}/{database_name}')\n",
    "connection=engine.connect()"
   ],
   "metadata": {
    "collapsed": false,
    "pycharm": {
     "name": "#%%\n"
    }
   }
  },
  {
   "cell_type": "code",
   "execution_count": 5,
   "outputs": [],
   "source": [
    "Base = declarative_base()"
   ],
   "metadata": {
    "collapsed": false,
    "pycharm": {
     "name": "#%%\n"
    }
   }
  },
  {
   "cell_type": "code",
   "execution_count": 6,
   "outputs": [],
   "source": [
    "class Date(Base):\n",
    "    __tablename__='Date'\n",
    "\n",
    "    Date_id=Column(Integer,autoincrement=True,primary_key=True)\n",
    "    Date=Column(DateTime)\n",
    "    Inflation=Column(Float)\n",
    "    GDP=Column(Float)\n",
    "    Metal_Price=Column(Float)\n",
    "    NASDAQ=Column(Float)\n"
   ],
   "metadata": {
    "collapsed": false,
    "pycharm": {
     "name": "#%%\n"
    }
   }
  },
  {
   "cell_type": "code",
   "execution_count": 7,
   "outputs": [],
   "source": [
    "class Price(Base):\n",
    "    __tablename__='Price'\n",
    "    id=Column(Integer,autoincrement=True,primary_key=True)\n",
    "    Date_id=Column(Integer,ForeignKey('Date.Date_id'))\n",
    "    Area_Code=Column(String)\n",
    "    Total_Condo_Sold_Number=Column(Integer)\n",
    "    Avg_Price=Column(Float)\n",
    "    Med_Price=Column(Integer)"
   ],
   "metadata": {
    "collapsed": false,
    "pycharm": {
     "name": "#%%\n"
    }
   }
  },
  {
   "cell_type": "code",
   "execution_count": 8,
   "outputs": [],
   "source": [
    "class Toronto(Base):\n",
    "    __tablename__='Toronto'\n",
    "    id=Column(Integer,autoincrement=True,primary_key=True)\n",
    "    Date_id=Column(Integer,ForeignKey('Date.Date_id'))\n",
    "    Prime_Rate=Column(Float)\n",
    "    Median_Age=Column(Float)\n",
    "    Participation_Rate=Column(Float)\n",
    "    Employment_Rate=Column(Float)\n",
    "    Population=Column(Float)\n",
    "    UT_Total_Enrollment=Column(Integer)\n"
   ],
   "metadata": {
    "collapsed": false,
    "pycharm": {
     "name": "#%%\n"
    }
   }
  },
  {
   "cell_type": "code",
   "execution_count": 9,
   "outputs": [],
   "source": [
    "class New(Base):\n",
    "    __tablename__='New'\n",
    "    id=Column(Integer,autoincrement=True,primary_key=True)\n",
    "    Date_id=Column(Integer,ForeignKey('Date.Date_id'))\n",
    "    Units_Number_Planned=Column(Integer)\n",
    "    Units_Number_Construction=Column(Integer)"
   ],
   "metadata": {
    "collapsed": false,
    "pycharm": {
     "name": "#%%\n"
    }
   }
  },
  {
   "cell_type": "code",
   "execution_count": 10,
   "outputs": [],
   "source": [
    "class All(Base):\n",
    "    __tablename__='All'\n",
    "    id=Column(Integer,autoincrement=True,primary_key=True)\n",
    "    Date_id=Column(Integer,ForeignKey('Date.Date_id'))\n",
    "    Condo_Sold_Number=Column(Integer)\n",
    "    Avg_Price=Column(Float)"
   ],
   "metadata": {
    "collapsed": false,
    "pycharm": {
     "name": "#%%\n"
    }
   }
  },
  {
   "cell_type": "code",
   "execution_count": 11,
   "outputs": [],
   "source": [
    "class Ontario(Base):\n",
    "    __tablename__='Ontario'\n",
    "    id=Column(Integer,autoincrement=True,primary_key=True)\n",
    "    Date_id=Column(Integer,ForeignKey('Date.Date_id'))\n",
    "    Immigrants_International=Column(Float)"
   ],
   "metadata": {
    "collapsed": false,
    "pycharm": {
     "name": "#%%\n"
    }
   }
  },
  {
   "cell_type": "code",
   "execution_count": 12,
   "outputs": [],
   "source": [
    "df=pd.read_json(\"files/raw_data.json\")"
   ],
   "metadata": {
    "collapsed": false,
    "pycharm": {
     "name": "#%%\n"
    }
   }
  },
  {
   "cell_type": "code",
   "execution_count": 13,
   "outputs": [],
   "source": [
    "df1=df.T"
   ],
   "metadata": {
    "collapsed": false,
    "pycharm": {
     "name": "#%%\n"
    }
   }
  },
  {
   "cell_type": "code",
   "execution_count": 14,
   "outputs": [
    {
     "data": {
      "text/plain": "            Date Area_Code Total_Condo_Sold_Number   Avg_Price Med_Price  \\\n0     2001-01-01       E02                     5.0    214180.0  229000.0   \n1     2001-01-01       W09                    15.0    108467.0   93000.0   \n2     2001-01-01       W08                    18.0    218839.0  150000.0   \n3     2001-01-01       W07                     1.0    179500.0  179500.0   \n4     2001-01-01       W06                    15.0    224660.0  190000.0   \n...          ...       ...                     ...         ...       ...   \n8773  2021-04-01       W07                     4.0    827000.0  847500.0   \n8774  2021-04-01       W08                   113.0    639655.0  600000.0   \n8775  2021-04-01       W02                    31.0    720145.0  671000.0   \n8776  2021-04-01       W03                    12.0    593675.0  580000.0   \n8777  2021-04-01       All                  2277.0  727137.343        NA   \n\n     Prime_Rate Inflation          GDP Metal_Price       NASDAQ  \\\n0           7.4       2.8  33393.91068     262.182  2641.687163   \n1           7.4       2.8  33393.91068     262.182  2641.687163   \n2           7.4       2.8  33393.91068     262.182  2641.687163   \n3           7.4       2.8  33393.91068     262.182  2641.687163   \n4           7.4       2.8  33393.91068     262.182  2641.687163   \n...         ...       ...          ...         ...          ...   \n8773       2.45       0.7  46006.79326    683.0225  13889.21294   \n8774       2.45       0.7  46006.79326    683.0225  13889.21294   \n8775       2.45       0.7  46006.79326    683.0225  13889.21294   \n8776       2.45       0.7  46006.79326    683.0225  13889.21294   \n8777       2.45       0.7  46006.79326    683.0225  13889.21294   \n\n     Ontario_Immigrants_International Toronto_Median_Age UT_Total_Enrollment  \\\n0                             34801.0               36.8             45261.0   \n1                             34801.0               36.8             45261.0   \n2                             34801.0               36.8             45261.0   \n3                             34801.0               36.8             45261.0   \n4                             34801.0               36.8             45261.0   \n...                               ...                ...                 ...   \n8773                          17281.0               40.4             83970.0   \n8774                          17281.0               40.4             83970.0   \n8775                          17281.0               40.4             83970.0   \n8776                          17281.0               40.4             83970.0   \n8777                          17281.0               40.4             83970.0   \n\n     Toronto_Participation_Rate Toronto_Employment_Rate Toronto_Population  \\\n0                          68.6                    65.0          4882618.0   \n1                          68.6                    65.0          4882618.0   \n2                          68.6                    65.0          4882618.0   \n3                          68.6                    65.0          4882618.0   \n4                          68.6                    65.0          4882618.0   \n...                         ...                     ...                ...   \n8773                       64.7                    58.4          6555205.0   \n8774                       64.7                    58.4          6555205.0   \n8775                       64.7                    58.4          6555205.0   \n8776                       64.7                    58.4          6555205.0   \n8777                       64.7                    58.4          6555205.0   \n\n     New_Units_Number_Planned New_Units_Number_Construction  \n0                      1457.0                         511.0  \n1                      1457.0                         511.0  \n2                      1457.0                         511.0  \n3                      1457.0                         511.0  \n4                      1457.0                         511.0  \n...                       ...                           ...  \n8773                   3986.0                        2271.0  \n8774                   3986.0                        2271.0  \n8775                   3986.0                        2271.0  \n8776                   3986.0                        2271.0  \n8777                   3986.0                        2271.0  \n\n[8778 rows x 18 columns]",
      "text/html": "<div>\n<style scoped>\n    .dataframe tbody tr th:only-of-type {\n        vertical-align: middle;\n    }\n\n    .dataframe tbody tr th {\n        vertical-align: top;\n    }\n\n    .dataframe thead th {\n        text-align: right;\n    }\n</style>\n<table border=\"1\" class=\"dataframe\">\n  <thead>\n    <tr style=\"text-align: right;\">\n      <th></th>\n      <th>Date</th>\n      <th>Area_Code</th>\n      <th>Total_Condo_Sold_Number</th>\n      <th>Avg_Price</th>\n      <th>Med_Price</th>\n      <th>Prime_Rate</th>\n      <th>Inflation</th>\n      <th>GDP</th>\n      <th>Metal_Price</th>\n      <th>NASDAQ</th>\n      <th>Ontario_Immigrants_International</th>\n      <th>Toronto_Median_Age</th>\n      <th>UT_Total_Enrollment</th>\n      <th>Toronto_Participation_Rate</th>\n      <th>Toronto_Employment_Rate</th>\n      <th>Toronto_Population</th>\n      <th>New_Units_Number_Planned</th>\n      <th>New_Units_Number_Construction</th>\n    </tr>\n  </thead>\n  <tbody>\n    <tr>\n      <th>0</th>\n      <td>2001-01-01</td>\n      <td>E02</td>\n      <td>5.0</td>\n      <td>214180.0</td>\n      <td>229000.0</td>\n      <td>7.4</td>\n      <td>2.8</td>\n      <td>33393.91068</td>\n      <td>262.182</td>\n      <td>2641.687163</td>\n      <td>34801.0</td>\n      <td>36.8</td>\n      <td>45261.0</td>\n      <td>68.6</td>\n      <td>65.0</td>\n      <td>4882618.0</td>\n      <td>1457.0</td>\n      <td>511.0</td>\n    </tr>\n    <tr>\n      <th>1</th>\n      <td>2001-01-01</td>\n      <td>W09</td>\n      <td>15.0</td>\n      <td>108467.0</td>\n      <td>93000.0</td>\n      <td>7.4</td>\n      <td>2.8</td>\n      <td>33393.91068</td>\n      <td>262.182</td>\n      <td>2641.687163</td>\n      <td>34801.0</td>\n      <td>36.8</td>\n      <td>45261.0</td>\n      <td>68.6</td>\n      <td>65.0</td>\n      <td>4882618.0</td>\n      <td>1457.0</td>\n      <td>511.0</td>\n    </tr>\n    <tr>\n      <th>2</th>\n      <td>2001-01-01</td>\n      <td>W08</td>\n      <td>18.0</td>\n      <td>218839.0</td>\n      <td>150000.0</td>\n      <td>7.4</td>\n      <td>2.8</td>\n      <td>33393.91068</td>\n      <td>262.182</td>\n      <td>2641.687163</td>\n      <td>34801.0</td>\n      <td>36.8</td>\n      <td>45261.0</td>\n      <td>68.6</td>\n      <td>65.0</td>\n      <td>4882618.0</td>\n      <td>1457.0</td>\n      <td>511.0</td>\n    </tr>\n    <tr>\n      <th>3</th>\n      <td>2001-01-01</td>\n      <td>W07</td>\n      <td>1.0</td>\n      <td>179500.0</td>\n      <td>179500.0</td>\n      <td>7.4</td>\n      <td>2.8</td>\n      <td>33393.91068</td>\n      <td>262.182</td>\n      <td>2641.687163</td>\n      <td>34801.0</td>\n      <td>36.8</td>\n      <td>45261.0</td>\n      <td>68.6</td>\n      <td>65.0</td>\n      <td>4882618.0</td>\n      <td>1457.0</td>\n      <td>511.0</td>\n    </tr>\n    <tr>\n      <th>4</th>\n      <td>2001-01-01</td>\n      <td>W06</td>\n      <td>15.0</td>\n      <td>224660.0</td>\n      <td>190000.0</td>\n      <td>7.4</td>\n      <td>2.8</td>\n      <td>33393.91068</td>\n      <td>262.182</td>\n      <td>2641.687163</td>\n      <td>34801.0</td>\n      <td>36.8</td>\n      <td>45261.0</td>\n      <td>68.6</td>\n      <td>65.0</td>\n      <td>4882618.0</td>\n      <td>1457.0</td>\n      <td>511.0</td>\n    </tr>\n    <tr>\n      <th>...</th>\n      <td>...</td>\n      <td>...</td>\n      <td>...</td>\n      <td>...</td>\n      <td>...</td>\n      <td>...</td>\n      <td>...</td>\n      <td>...</td>\n      <td>...</td>\n      <td>...</td>\n      <td>...</td>\n      <td>...</td>\n      <td>...</td>\n      <td>...</td>\n      <td>...</td>\n      <td>...</td>\n      <td>...</td>\n      <td>...</td>\n    </tr>\n    <tr>\n      <th>8773</th>\n      <td>2021-04-01</td>\n      <td>W07</td>\n      <td>4.0</td>\n      <td>827000.0</td>\n      <td>847500.0</td>\n      <td>2.45</td>\n      <td>0.7</td>\n      <td>46006.79326</td>\n      <td>683.0225</td>\n      <td>13889.21294</td>\n      <td>17281.0</td>\n      <td>40.4</td>\n      <td>83970.0</td>\n      <td>64.7</td>\n      <td>58.4</td>\n      <td>6555205.0</td>\n      <td>3986.0</td>\n      <td>2271.0</td>\n    </tr>\n    <tr>\n      <th>8774</th>\n      <td>2021-04-01</td>\n      <td>W08</td>\n      <td>113.0</td>\n      <td>639655.0</td>\n      <td>600000.0</td>\n      <td>2.45</td>\n      <td>0.7</td>\n      <td>46006.79326</td>\n      <td>683.0225</td>\n      <td>13889.21294</td>\n      <td>17281.0</td>\n      <td>40.4</td>\n      <td>83970.0</td>\n      <td>64.7</td>\n      <td>58.4</td>\n      <td>6555205.0</td>\n      <td>3986.0</td>\n      <td>2271.0</td>\n    </tr>\n    <tr>\n      <th>8775</th>\n      <td>2021-04-01</td>\n      <td>W02</td>\n      <td>31.0</td>\n      <td>720145.0</td>\n      <td>671000.0</td>\n      <td>2.45</td>\n      <td>0.7</td>\n      <td>46006.79326</td>\n      <td>683.0225</td>\n      <td>13889.21294</td>\n      <td>17281.0</td>\n      <td>40.4</td>\n      <td>83970.0</td>\n      <td>64.7</td>\n      <td>58.4</td>\n      <td>6555205.0</td>\n      <td>3986.0</td>\n      <td>2271.0</td>\n    </tr>\n    <tr>\n      <th>8776</th>\n      <td>2021-04-01</td>\n      <td>W03</td>\n      <td>12.0</td>\n      <td>593675.0</td>\n      <td>580000.0</td>\n      <td>2.45</td>\n      <td>0.7</td>\n      <td>46006.79326</td>\n      <td>683.0225</td>\n      <td>13889.21294</td>\n      <td>17281.0</td>\n      <td>40.4</td>\n      <td>83970.0</td>\n      <td>64.7</td>\n      <td>58.4</td>\n      <td>6555205.0</td>\n      <td>3986.0</td>\n      <td>2271.0</td>\n    </tr>\n    <tr>\n      <th>8777</th>\n      <td>2021-04-01</td>\n      <td>All</td>\n      <td>2277.0</td>\n      <td>727137.343</td>\n      <td>NA</td>\n      <td>2.45</td>\n      <td>0.7</td>\n      <td>46006.79326</td>\n      <td>683.0225</td>\n      <td>13889.21294</td>\n      <td>17281.0</td>\n      <td>40.4</td>\n      <td>83970.0</td>\n      <td>64.7</td>\n      <td>58.4</td>\n      <td>6555205.0</td>\n      <td>3986.0</td>\n      <td>2271.0</td>\n    </tr>\n  </tbody>\n</table>\n<p>8778 rows × 18 columns</p>\n</div>"
     },
     "execution_count": 14,
     "metadata": {},
     "output_type": "execute_result"
    }
   ],
   "source": [
    "df1"
   ],
   "metadata": {
    "collapsed": false,
    "pycharm": {
     "name": "#%%\n"
    }
   }
  },
  {
   "cell_type": "code",
   "execution_count": 15,
   "outputs": [],
   "source": [
    "df1['Date']=df1['Date'].astype('datetime64')"
   ],
   "metadata": {
    "collapsed": false,
    "pycharm": {
     "name": "#%%\n"
    }
   }
  },
  {
   "cell_type": "code",
   "execution_count": 16,
   "outputs": [
    {
     "name": "stdout",
     "output_type": "stream",
     "text": [
      "<class 'pandas.core.frame.DataFrame'>\n",
      "Int64Index: 8778 entries, 0 to 8777\n",
      "Data columns (total 18 columns):\n",
      " #   Column                            Non-Null Count  Dtype         \n",
      "---  ------                            --------------  -----         \n",
      " 0   Date                              8778 non-null   datetime64[ns]\n",
      " 1   Area_Code                         8778 non-null   object        \n",
      " 2   Total_Condo_Sold_Number           8778 non-null   object        \n",
      " 3   Avg_Price                         8778 non-null   object        \n",
      " 4   Med_Price                         8778 non-null   object        \n",
      " 5   Prime_Rate                        8778 non-null   object        \n",
      " 6   Inflation                         8778 non-null   object        \n",
      " 7   GDP                               8778 non-null   object        \n",
      " 8   Metal_Price                       8778 non-null   object        \n",
      " 9   NASDAQ                            8778 non-null   object        \n",
      " 10  Ontario_Immigrants_International  8778 non-null   object        \n",
      " 11  Toronto_Median_Age                8778 non-null   object        \n",
      " 12  UT_Total_Enrollment               8778 non-null   object        \n",
      " 13  Toronto_Participation_Rate        8778 non-null   object        \n",
      " 14  Toronto_Employment_Rate           8778 non-null   object        \n",
      " 15  Toronto_Population                8778 non-null   object        \n",
      " 16  New_Units_Number_Planned          8778 non-null   object        \n",
      " 17  New_Units_Number_Construction     8778 non-null   object        \n",
      "dtypes: datetime64[ns](1), object(17)\n",
      "memory usage: 1.5+ MB\n"
     ]
    }
   ],
   "source": [
    "df1.info()\n"
   ],
   "metadata": {
    "collapsed": false,
    "pycharm": {
     "name": "#%%\n"
    }
   }
  },
  {
   "cell_type": "code",
   "execution_count": 17,
   "outputs": [],
   "source": [
    "session = Session(engine)"
   ],
   "metadata": {
    "collapsed": false,
    "pycharm": {
     "name": "#%%\n"
    }
   }
  },
  {
   "cell_type": "code",
   "execution_count": 17,
   "outputs": [],
   "source": [],
   "metadata": {
    "collapsed": false,
    "pycharm": {
     "name": "#%%\n"
    }
   }
  },
  {
   "cell_type": "code",
   "execution_count": 18,
   "outputs": [],
   "source": [
    "datelist=df1['Date'].unique()"
   ],
   "metadata": {
    "collapsed": false,
    "pycharm": {
     "name": "#%%\n"
    }
   }
  },
  {
   "cell_type": "code",
   "execution_count": 19,
   "outputs": [
    {
     "data": {
      "text/plain": "         Date Area_Code Total_Condo_Sold_Number    Avg_Price Med_Price  \\\n0  2001-01-01       E02                     5.0     214180.0  229000.0   \n1  2001-01-01       W09                    15.0     108467.0   93000.0   \n2  2001-01-01       W08                    18.0     218839.0  150000.0   \n3  2001-01-01       W07                     1.0     179500.0  179500.0   \n4  2001-01-01       W06                    15.0     224660.0  190000.0   \n5  2001-01-01       E06                     0.0          0.0       0.0   \n6  2001-01-01       W05                    17.0     107088.0  117000.0   \n7  2001-01-01       W03                     4.0     126625.0  116500.0   \n8  2001-01-01       W01                     4.0     188875.0  188250.0   \n9  2001-01-01       E11                    24.0     115948.0  117450.0   \n10 2001-01-01       E10                     3.0     119300.0  124000.0   \n11 2001-01-01       E09                    28.0     155529.0  155950.0   \n12 2001-01-01       E08                    18.0     142147.0  131500.0   \n13 2001-01-01       W04                    17.0     111253.0  116500.0   \n14 2001-01-01       C01                    63.0     274706.0  200000.0   \n15 2001-01-01       E03                    23.0     134693.0  127000.0   \n16 2001-01-01       W10                    25.0     118380.0  120000.0   \n17 2001-01-01       C02                     8.0     339563.0  249000.0   \n18 2001-01-01       All                   528.0  185757.6686        NA   \n19 2001-01-01       W02                     0.0          0.0       0.0   \n20 2001-01-01       E01                     2.0     144950.0  144950.0   \n21 2001-01-01       C15                    21.0     198100.0  153900.0   \n22 2001-01-01       C14                    39.0     218062.0  212000.0   \n23 2001-01-01       C13                    11.0     172909.0  160000.0   \n24 2001-01-01       C12                     0.0          0.0       0.0   \n25 2001-01-01       C03                     1.0     435718.0  435718.0   \n26 2001-01-01       C10                     9.0     243633.0  215000.0   \n27 2001-01-01       E07                    16.0     159788.0  157750.0   \n28 2001-01-01       C08                    49.0     217583.0  194000.0   \n29 2001-01-01       C07                    17.0     201600.0  196000.0   \n30 2001-01-01       C06                     1.0     168000.0  168000.0   \n31 2001-01-01       C04                     9.0     248444.0  196000.0   \n32 2001-01-01       E04                    23.0     124935.0  123000.0   \n33 2001-01-01       C11                    12.0     128800.0  117350.0   \n34 2001-01-01       E05                    27.0     172778.0  169000.0   \n35 2001-01-01       C09                     3.0     389000.0  400000.0   \n\n   Prime_Rate Inflation          GDP Metal_Price       NASDAQ  \\\n0         7.4       2.8  33393.91068     262.182  2641.687163   \n1         7.4       2.8  33393.91068     262.182  2641.687163   \n2         7.4       2.8  33393.91068     262.182  2641.687163   \n3         7.4       2.8  33393.91068     262.182  2641.687163   \n4         7.4       2.8  33393.91068     262.182  2641.687163   \n5         7.4       2.8  33393.91068     262.182  2641.687163   \n6         7.4       2.8  33393.91068     262.182  2641.687163   \n7         7.4       2.8  33393.91068     262.182  2641.687163   \n8         7.4       2.8  33393.91068     262.182  2641.687163   \n9         7.4       2.8  33393.91068     262.182  2641.687163   \n10        7.4       2.8  33393.91068     262.182  2641.687163   \n11        7.4       2.8  33393.91068     262.182  2641.687163   \n12        7.4       2.8  33393.91068     262.182  2641.687163   \n13        7.4       2.8  33393.91068     262.182  2641.687163   \n14        7.4       2.8  33393.91068     262.182  2641.687163   \n15        7.4       2.8  33393.91068     262.182  2641.687163   \n16        7.4       2.8  33393.91068     262.182  2641.687163   \n17        7.4       2.8  33393.91068     262.182  2641.687163   \n18        7.4       2.8  33393.91068     262.182  2641.687163   \n19        7.4       2.8  33393.91068     262.182  2641.687163   \n20        7.4       2.8  33393.91068     262.182  2641.687163   \n21        7.4       2.8  33393.91068     262.182  2641.687163   \n22        7.4       2.8  33393.91068     262.182  2641.687163   \n23        7.4       2.8  33393.91068     262.182  2641.687163   \n24        7.4       2.8  33393.91068     262.182  2641.687163   \n25        7.4       2.8  33393.91068     262.182  2641.687163   \n26        7.4       2.8  33393.91068     262.182  2641.687163   \n27        7.4       2.8  33393.91068     262.182  2641.687163   \n28        7.4       2.8  33393.91068     262.182  2641.687163   \n29        7.4       2.8  33393.91068     262.182  2641.687163   \n30        7.4       2.8  33393.91068     262.182  2641.687163   \n31        7.4       2.8  33393.91068     262.182  2641.687163   \n32        7.4       2.8  33393.91068     262.182  2641.687163   \n33        7.4       2.8  33393.91068     262.182  2641.687163   \n34        7.4       2.8  33393.91068     262.182  2641.687163   \n35        7.4       2.8  33393.91068     262.182  2641.687163   \n\n   Ontario_Immigrants_International Toronto_Median_Age UT_Total_Enrollment  \\\n0                           34801.0               36.8             45261.0   \n1                           34801.0               36.8             45261.0   \n2                           34801.0               36.8             45261.0   \n3                           34801.0               36.8             45261.0   \n4                           34801.0               36.8             45261.0   \n5                           34801.0               36.8             45261.0   \n6                           34801.0               36.8             45261.0   \n7                           34801.0               36.8             45261.0   \n8                           34801.0               36.8             45261.0   \n9                           34801.0               36.8             45261.0   \n10                          34801.0               36.8             45261.0   \n11                          34801.0               36.8             45261.0   \n12                          34801.0               36.8             45261.0   \n13                          34801.0               36.8             45261.0   \n14                          34801.0               36.8             45261.0   \n15                          34801.0               36.8             45261.0   \n16                          34801.0               36.8             45261.0   \n17                          34801.0               36.8             45261.0   \n18                          34801.0               36.8             45261.0   \n19                          34801.0               36.8             45261.0   \n20                          34801.0               36.8             45261.0   \n21                          34801.0               36.8             45261.0   \n22                          34801.0               36.8             45261.0   \n23                          34801.0               36.8             45261.0   \n24                          34801.0               36.8             45261.0   \n25                          34801.0               36.8             45261.0   \n26                          34801.0               36.8             45261.0   \n27                          34801.0               36.8             45261.0   \n28                          34801.0               36.8             45261.0   \n29                          34801.0               36.8             45261.0   \n30                          34801.0               36.8             45261.0   \n31                          34801.0               36.8             45261.0   \n32                          34801.0               36.8             45261.0   \n33                          34801.0               36.8             45261.0   \n34                          34801.0               36.8             45261.0   \n35                          34801.0               36.8             45261.0   \n\n   Toronto_Participation_Rate Toronto_Employment_Rate Toronto_Population  \\\n0                        68.6                    65.0          4882618.0   \n1                        68.6                    65.0          4882618.0   \n2                        68.6                    65.0          4882618.0   \n3                        68.6                    65.0          4882618.0   \n4                        68.6                    65.0          4882618.0   \n5                        68.6                    65.0          4882618.0   \n6                        68.6                    65.0          4882618.0   \n7                        68.6                    65.0          4882618.0   \n8                        68.6                    65.0          4882618.0   \n9                        68.6                    65.0          4882618.0   \n10                       68.6                    65.0          4882618.0   \n11                       68.6                    65.0          4882618.0   \n12                       68.6                    65.0          4882618.0   \n13                       68.6                    65.0          4882618.0   \n14                       68.6                    65.0          4882618.0   \n15                       68.6                    65.0          4882618.0   \n16                       68.6                    65.0          4882618.0   \n17                       68.6                    65.0          4882618.0   \n18                       68.6                    65.0          4882618.0   \n19                       68.6                    65.0          4882618.0   \n20                       68.6                    65.0          4882618.0   \n21                       68.6                    65.0          4882618.0   \n22                       68.6                    65.0          4882618.0   \n23                       68.6                    65.0          4882618.0   \n24                       68.6                    65.0          4882618.0   \n25                       68.6                    65.0          4882618.0   \n26                       68.6                    65.0          4882618.0   \n27                       68.6                    65.0          4882618.0   \n28                       68.6                    65.0          4882618.0   \n29                       68.6                    65.0          4882618.0   \n30                       68.6                    65.0          4882618.0   \n31                       68.6                    65.0          4882618.0   \n32                       68.6                    65.0          4882618.0   \n33                       68.6                    65.0          4882618.0   \n34                       68.6                    65.0          4882618.0   \n35                       68.6                    65.0          4882618.0   \n\n   New_Units_Number_Planned New_Units_Number_Construction  \n0                    1457.0                         511.0  \n1                    1457.0                         511.0  \n2                    1457.0                         511.0  \n3                    1457.0                         511.0  \n4                    1457.0                         511.0  \n5                    1457.0                         511.0  \n6                    1457.0                         511.0  \n7                    1457.0                         511.0  \n8                    1457.0                         511.0  \n9                    1457.0                         511.0  \n10                   1457.0                         511.0  \n11                   1457.0                         511.0  \n12                   1457.0                         511.0  \n13                   1457.0                         511.0  \n14                   1457.0                         511.0  \n15                   1457.0                         511.0  \n16                   1457.0                         511.0  \n17                   1457.0                         511.0  \n18                   1457.0                         511.0  \n19                   1457.0                         511.0  \n20                   1457.0                         511.0  \n21                   1457.0                         511.0  \n22                   1457.0                         511.0  \n23                   1457.0                         511.0  \n24                   1457.0                         511.0  \n25                   1457.0                         511.0  \n26                   1457.0                         511.0  \n27                   1457.0                         511.0  \n28                   1457.0                         511.0  \n29                   1457.0                         511.0  \n30                   1457.0                         511.0  \n31                   1457.0                         511.0  \n32                   1457.0                         511.0  \n33                   1457.0                         511.0  \n34                   1457.0                         511.0  \n35                   1457.0                         511.0  ",
      "text/html": "<div>\n<style scoped>\n    .dataframe tbody tr th:only-of-type {\n        vertical-align: middle;\n    }\n\n    .dataframe tbody tr th {\n        vertical-align: top;\n    }\n\n    .dataframe thead th {\n        text-align: right;\n    }\n</style>\n<table border=\"1\" class=\"dataframe\">\n  <thead>\n    <tr style=\"text-align: right;\">\n      <th></th>\n      <th>Date</th>\n      <th>Area_Code</th>\n      <th>Total_Condo_Sold_Number</th>\n      <th>Avg_Price</th>\n      <th>Med_Price</th>\n      <th>Prime_Rate</th>\n      <th>Inflation</th>\n      <th>GDP</th>\n      <th>Metal_Price</th>\n      <th>NASDAQ</th>\n      <th>Ontario_Immigrants_International</th>\n      <th>Toronto_Median_Age</th>\n      <th>UT_Total_Enrollment</th>\n      <th>Toronto_Participation_Rate</th>\n      <th>Toronto_Employment_Rate</th>\n      <th>Toronto_Population</th>\n      <th>New_Units_Number_Planned</th>\n      <th>New_Units_Number_Construction</th>\n    </tr>\n  </thead>\n  <tbody>\n    <tr>\n      <th>0</th>\n      <td>2001-01-01</td>\n      <td>E02</td>\n      <td>5.0</td>\n      <td>214180.0</td>\n      <td>229000.0</td>\n      <td>7.4</td>\n      <td>2.8</td>\n      <td>33393.91068</td>\n      <td>262.182</td>\n      <td>2641.687163</td>\n      <td>34801.0</td>\n      <td>36.8</td>\n      <td>45261.0</td>\n      <td>68.6</td>\n      <td>65.0</td>\n      <td>4882618.0</td>\n      <td>1457.0</td>\n      <td>511.0</td>\n    </tr>\n    <tr>\n      <th>1</th>\n      <td>2001-01-01</td>\n      <td>W09</td>\n      <td>15.0</td>\n      <td>108467.0</td>\n      <td>93000.0</td>\n      <td>7.4</td>\n      <td>2.8</td>\n      <td>33393.91068</td>\n      <td>262.182</td>\n      <td>2641.687163</td>\n      <td>34801.0</td>\n      <td>36.8</td>\n      <td>45261.0</td>\n      <td>68.6</td>\n      <td>65.0</td>\n      <td>4882618.0</td>\n      <td>1457.0</td>\n      <td>511.0</td>\n    </tr>\n    <tr>\n      <th>2</th>\n      <td>2001-01-01</td>\n      <td>W08</td>\n      <td>18.0</td>\n      <td>218839.0</td>\n      <td>150000.0</td>\n      <td>7.4</td>\n      <td>2.8</td>\n      <td>33393.91068</td>\n      <td>262.182</td>\n      <td>2641.687163</td>\n      <td>34801.0</td>\n      <td>36.8</td>\n      <td>45261.0</td>\n      <td>68.6</td>\n      <td>65.0</td>\n      <td>4882618.0</td>\n      <td>1457.0</td>\n      <td>511.0</td>\n    </tr>\n    <tr>\n      <th>3</th>\n      <td>2001-01-01</td>\n      <td>W07</td>\n      <td>1.0</td>\n      <td>179500.0</td>\n      <td>179500.0</td>\n      <td>7.4</td>\n      <td>2.8</td>\n      <td>33393.91068</td>\n      <td>262.182</td>\n      <td>2641.687163</td>\n      <td>34801.0</td>\n      <td>36.8</td>\n      <td>45261.0</td>\n      <td>68.6</td>\n      <td>65.0</td>\n      <td>4882618.0</td>\n      <td>1457.0</td>\n      <td>511.0</td>\n    </tr>\n    <tr>\n      <th>4</th>\n      <td>2001-01-01</td>\n      <td>W06</td>\n      <td>15.0</td>\n      <td>224660.0</td>\n      <td>190000.0</td>\n      <td>7.4</td>\n      <td>2.8</td>\n      <td>33393.91068</td>\n      <td>262.182</td>\n      <td>2641.687163</td>\n      <td>34801.0</td>\n      <td>36.8</td>\n      <td>45261.0</td>\n      <td>68.6</td>\n      <td>65.0</td>\n      <td>4882618.0</td>\n      <td>1457.0</td>\n      <td>511.0</td>\n    </tr>\n    <tr>\n      <th>5</th>\n      <td>2001-01-01</td>\n      <td>E06</td>\n      <td>0.0</td>\n      <td>0.0</td>\n      <td>0.0</td>\n      <td>7.4</td>\n      <td>2.8</td>\n      <td>33393.91068</td>\n      <td>262.182</td>\n      <td>2641.687163</td>\n      <td>34801.0</td>\n      <td>36.8</td>\n      <td>45261.0</td>\n      <td>68.6</td>\n      <td>65.0</td>\n      <td>4882618.0</td>\n      <td>1457.0</td>\n      <td>511.0</td>\n    </tr>\n    <tr>\n      <th>6</th>\n      <td>2001-01-01</td>\n      <td>W05</td>\n      <td>17.0</td>\n      <td>107088.0</td>\n      <td>117000.0</td>\n      <td>7.4</td>\n      <td>2.8</td>\n      <td>33393.91068</td>\n      <td>262.182</td>\n      <td>2641.687163</td>\n      <td>34801.0</td>\n      <td>36.8</td>\n      <td>45261.0</td>\n      <td>68.6</td>\n      <td>65.0</td>\n      <td>4882618.0</td>\n      <td>1457.0</td>\n      <td>511.0</td>\n    </tr>\n    <tr>\n      <th>7</th>\n      <td>2001-01-01</td>\n      <td>W03</td>\n      <td>4.0</td>\n      <td>126625.0</td>\n      <td>116500.0</td>\n      <td>7.4</td>\n      <td>2.8</td>\n      <td>33393.91068</td>\n      <td>262.182</td>\n      <td>2641.687163</td>\n      <td>34801.0</td>\n      <td>36.8</td>\n      <td>45261.0</td>\n      <td>68.6</td>\n      <td>65.0</td>\n      <td>4882618.0</td>\n      <td>1457.0</td>\n      <td>511.0</td>\n    </tr>\n    <tr>\n      <th>8</th>\n      <td>2001-01-01</td>\n      <td>W01</td>\n      <td>4.0</td>\n      <td>188875.0</td>\n      <td>188250.0</td>\n      <td>7.4</td>\n      <td>2.8</td>\n      <td>33393.91068</td>\n      <td>262.182</td>\n      <td>2641.687163</td>\n      <td>34801.0</td>\n      <td>36.8</td>\n      <td>45261.0</td>\n      <td>68.6</td>\n      <td>65.0</td>\n      <td>4882618.0</td>\n      <td>1457.0</td>\n      <td>511.0</td>\n    </tr>\n    <tr>\n      <th>9</th>\n      <td>2001-01-01</td>\n      <td>E11</td>\n      <td>24.0</td>\n      <td>115948.0</td>\n      <td>117450.0</td>\n      <td>7.4</td>\n      <td>2.8</td>\n      <td>33393.91068</td>\n      <td>262.182</td>\n      <td>2641.687163</td>\n      <td>34801.0</td>\n      <td>36.8</td>\n      <td>45261.0</td>\n      <td>68.6</td>\n      <td>65.0</td>\n      <td>4882618.0</td>\n      <td>1457.0</td>\n      <td>511.0</td>\n    </tr>\n    <tr>\n      <th>10</th>\n      <td>2001-01-01</td>\n      <td>E10</td>\n      <td>3.0</td>\n      <td>119300.0</td>\n      <td>124000.0</td>\n      <td>7.4</td>\n      <td>2.8</td>\n      <td>33393.91068</td>\n      <td>262.182</td>\n      <td>2641.687163</td>\n      <td>34801.0</td>\n      <td>36.8</td>\n      <td>45261.0</td>\n      <td>68.6</td>\n      <td>65.0</td>\n      <td>4882618.0</td>\n      <td>1457.0</td>\n      <td>511.0</td>\n    </tr>\n    <tr>\n      <th>11</th>\n      <td>2001-01-01</td>\n      <td>E09</td>\n      <td>28.0</td>\n      <td>155529.0</td>\n      <td>155950.0</td>\n      <td>7.4</td>\n      <td>2.8</td>\n      <td>33393.91068</td>\n      <td>262.182</td>\n      <td>2641.687163</td>\n      <td>34801.0</td>\n      <td>36.8</td>\n      <td>45261.0</td>\n      <td>68.6</td>\n      <td>65.0</td>\n      <td>4882618.0</td>\n      <td>1457.0</td>\n      <td>511.0</td>\n    </tr>\n    <tr>\n      <th>12</th>\n      <td>2001-01-01</td>\n      <td>E08</td>\n      <td>18.0</td>\n      <td>142147.0</td>\n      <td>131500.0</td>\n      <td>7.4</td>\n      <td>2.8</td>\n      <td>33393.91068</td>\n      <td>262.182</td>\n      <td>2641.687163</td>\n      <td>34801.0</td>\n      <td>36.8</td>\n      <td>45261.0</td>\n      <td>68.6</td>\n      <td>65.0</td>\n      <td>4882618.0</td>\n      <td>1457.0</td>\n      <td>511.0</td>\n    </tr>\n    <tr>\n      <th>13</th>\n      <td>2001-01-01</td>\n      <td>W04</td>\n      <td>17.0</td>\n      <td>111253.0</td>\n      <td>116500.0</td>\n      <td>7.4</td>\n      <td>2.8</td>\n      <td>33393.91068</td>\n      <td>262.182</td>\n      <td>2641.687163</td>\n      <td>34801.0</td>\n      <td>36.8</td>\n      <td>45261.0</td>\n      <td>68.6</td>\n      <td>65.0</td>\n      <td>4882618.0</td>\n      <td>1457.0</td>\n      <td>511.0</td>\n    </tr>\n    <tr>\n      <th>14</th>\n      <td>2001-01-01</td>\n      <td>C01</td>\n      <td>63.0</td>\n      <td>274706.0</td>\n      <td>200000.0</td>\n      <td>7.4</td>\n      <td>2.8</td>\n      <td>33393.91068</td>\n      <td>262.182</td>\n      <td>2641.687163</td>\n      <td>34801.0</td>\n      <td>36.8</td>\n      <td>45261.0</td>\n      <td>68.6</td>\n      <td>65.0</td>\n      <td>4882618.0</td>\n      <td>1457.0</td>\n      <td>511.0</td>\n    </tr>\n    <tr>\n      <th>15</th>\n      <td>2001-01-01</td>\n      <td>E03</td>\n      <td>23.0</td>\n      <td>134693.0</td>\n      <td>127000.0</td>\n      <td>7.4</td>\n      <td>2.8</td>\n      <td>33393.91068</td>\n      <td>262.182</td>\n      <td>2641.687163</td>\n      <td>34801.0</td>\n      <td>36.8</td>\n      <td>45261.0</td>\n      <td>68.6</td>\n      <td>65.0</td>\n      <td>4882618.0</td>\n      <td>1457.0</td>\n      <td>511.0</td>\n    </tr>\n    <tr>\n      <th>16</th>\n      <td>2001-01-01</td>\n      <td>W10</td>\n      <td>25.0</td>\n      <td>118380.0</td>\n      <td>120000.0</td>\n      <td>7.4</td>\n      <td>2.8</td>\n      <td>33393.91068</td>\n      <td>262.182</td>\n      <td>2641.687163</td>\n      <td>34801.0</td>\n      <td>36.8</td>\n      <td>45261.0</td>\n      <td>68.6</td>\n      <td>65.0</td>\n      <td>4882618.0</td>\n      <td>1457.0</td>\n      <td>511.0</td>\n    </tr>\n    <tr>\n      <th>17</th>\n      <td>2001-01-01</td>\n      <td>C02</td>\n      <td>8.0</td>\n      <td>339563.0</td>\n      <td>249000.0</td>\n      <td>7.4</td>\n      <td>2.8</td>\n      <td>33393.91068</td>\n      <td>262.182</td>\n      <td>2641.687163</td>\n      <td>34801.0</td>\n      <td>36.8</td>\n      <td>45261.0</td>\n      <td>68.6</td>\n      <td>65.0</td>\n      <td>4882618.0</td>\n      <td>1457.0</td>\n      <td>511.0</td>\n    </tr>\n    <tr>\n      <th>18</th>\n      <td>2001-01-01</td>\n      <td>All</td>\n      <td>528.0</td>\n      <td>185757.6686</td>\n      <td>NA</td>\n      <td>7.4</td>\n      <td>2.8</td>\n      <td>33393.91068</td>\n      <td>262.182</td>\n      <td>2641.687163</td>\n      <td>34801.0</td>\n      <td>36.8</td>\n      <td>45261.0</td>\n      <td>68.6</td>\n      <td>65.0</td>\n      <td>4882618.0</td>\n      <td>1457.0</td>\n      <td>511.0</td>\n    </tr>\n    <tr>\n      <th>19</th>\n      <td>2001-01-01</td>\n      <td>W02</td>\n      <td>0.0</td>\n      <td>0.0</td>\n      <td>0.0</td>\n      <td>7.4</td>\n      <td>2.8</td>\n      <td>33393.91068</td>\n      <td>262.182</td>\n      <td>2641.687163</td>\n      <td>34801.0</td>\n      <td>36.8</td>\n      <td>45261.0</td>\n      <td>68.6</td>\n      <td>65.0</td>\n      <td>4882618.0</td>\n      <td>1457.0</td>\n      <td>511.0</td>\n    </tr>\n    <tr>\n      <th>20</th>\n      <td>2001-01-01</td>\n      <td>E01</td>\n      <td>2.0</td>\n      <td>144950.0</td>\n      <td>144950.0</td>\n      <td>7.4</td>\n      <td>2.8</td>\n      <td>33393.91068</td>\n      <td>262.182</td>\n      <td>2641.687163</td>\n      <td>34801.0</td>\n      <td>36.8</td>\n      <td>45261.0</td>\n      <td>68.6</td>\n      <td>65.0</td>\n      <td>4882618.0</td>\n      <td>1457.0</td>\n      <td>511.0</td>\n    </tr>\n    <tr>\n      <th>21</th>\n      <td>2001-01-01</td>\n      <td>C15</td>\n      <td>21.0</td>\n      <td>198100.0</td>\n      <td>153900.0</td>\n      <td>7.4</td>\n      <td>2.8</td>\n      <td>33393.91068</td>\n      <td>262.182</td>\n      <td>2641.687163</td>\n      <td>34801.0</td>\n      <td>36.8</td>\n      <td>45261.0</td>\n      <td>68.6</td>\n      <td>65.0</td>\n      <td>4882618.0</td>\n      <td>1457.0</td>\n      <td>511.0</td>\n    </tr>\n    <tr>\n      <th>22</th>\n      <td>2001-01-01</td>\n      <td>C14</td>\n      <td>39.0</td>\n      <td>218062.0</td>\n      <td>212000.0</td>\n      <td>7.4</td>\n      <td>2.8</td>\n      <td>33393.91068</td>\n      <td>262.182</td>\n      <td>2641.687163</td>\n      <td>34801.0</td>\n      <td>36.8</td>\n      <td>45261.0</td>\n      <td>68.6</td>\n      <td>65.0</td>\n      <td>4882618.0</td>\n      <td>1457.0</td>\n      <td>511.0</td>\n    </tr>\n    <tr>\n      <th>23</th>\n      <td>2001-01-01</td>\n      <td>C13</td>\n      <td>11.0</td>\n      <td>172909.0</td>\n      <td>160000.0</td>\n      <td>7.4</td>\n      <td>2.8</td>\n      <td>33393.91068</td>\n      <td>262.182</td>\n      <td>2641.687163</td>\n      <td>34801.0</td>\n      <td>36.8</td>\n      <td>45261.0</td>\n      <td>68.6</td>\n      <td>65.0</td>\n      <td>4882618.0</td>\n      <td>1457.0</td>\n      <td>511.0</td>\n    </tr>\n    <tr>\n      <th>24</th>\n      <td>2001-01-01</td>\n      <td>C12</td>\n      <td>0.0</td>\n      <td>0.0</td>\n      <td>0.0</td>\n      <td>7.4</td>\n      <td>2.8</td>\n      <td>33393.91068</td>\n      <td>262.182</td>\n      <td>2641.687163</td>\n      <td>34801.0</td>\n      <td>36.8</td>\n      <td>45261.0</td>\n      <td>68.6</td>\n      <td>65.0</td>\n      <td>4882618.0</td>\n      <td>1457.0</td>\n      <td>511.0</td>\n    </tr>\n    <tr>\n      <th>25</th>\n      <td>2001-01-01</td>\n      <td>C03</td>\n      <td>1.0</td>\n      <td>435718.0</td>\n      <td>435718.0</td>\n      <td>7.4</td>\n      <td>2.8</td>\n      <td>33393.91068</td>\n      <td>262.182</td>\n      <td>2641.687163</td>\n      <td>34801.0</td>\n      <td>36.8</td>\n      <td>45261.0</td>\n      <td>68.6</td>\n      <td>65.0</td>\n      <td>4882618.0</td>\n      <td>1457.0</td>\n      <td>511.0</td>\n    </tr>\n    <tr>\n      <th>26</th>\n      <td>2001-01-01</td>\n      <td>C10</td>\n      <td>9.0</td>\n      <td>243633.0</td>\n      <td>215000.0</td>\n      <td>7.4</td>\n      <td>2.8</td>\n      <td>33393.91068</td>\n      <td>262.182</td>\n      <td>2641.687163</td>\n      <td>34801.0</td>\n      <td>36.8</td>\n      <td>45261.0</td>\n      <td>68.6</td>\n      <td>65.0</td>\n      <td>4882618.0</td>\n      <td>1457.0</td>\n      <td>511.0</td>\n    </tr>\n    <tr>\n      <th>27</th>\n      <td>2001-01-01</td>\n      <td>E07</td>\n      <td>16.0</td>\n      <td>159788.0</td>\n      <td>157750.0</td>\n      <td>7.4</td>\n      <td>2.8</td>\n      <td>33393.91068</td>\n      <td>262.182</td>\n      <td>2641.687163</td>\n      <td>34801.0</td>\n      <td>36.8</td>\n      <td>45261.0</td>\n      <td>68.6</td>\n      <td>65.0</td>\n      <td>4882618.0</td>\n      <td>1457.0</td>\n      <td>511.0</td>\n    </tr>\n    <tr>\n      <th>28</th>\n      <td>2001-01-01</td>\n      <td>C08</td>\n      <td>49.0</td>\n      <td>217583.0</td>\n      <td>194000.0</td>\n      <td>7.4</td>\n      <td>2.8</td>\n      <td>33393.91068</td>\n      <td>262.182</td>\n      <td>2641.687163</td>\n      <td>34801.0</td>\n      <td>36.8</td>\n      <td>45261.0</td>\n      <td>68.6</td>\n      <td>65.0</td>\n      <td>4882618.0</td>\n      <td>1457.0</td>\n      <td>511.0</td>\n    </tr>\n    <tr>\n      <th>29</th>\n      <td>2001-01-01</td>\n      <td>C07</td>\n      <td>17.0</td>\n      <td>201600.0</td>\n      <td>196000.0</td>\n      <td>7.4</td>\n      <td>2.8</td>\n      <td>33393.91068</td>\n      <td>262.182</td>\n      <td>2641.687163</td>\n      <td>34801.0</td>\n      <td>36.8</td>\n      <td>45261.0</td>\n      <td>68.6</td>\n      <td>65.0</td>\n      <td>4882618.0</td>\n      <td>1457.0</td>\n      <td>511.0</td>\n    </tr>\n    <tr>\n      <th>30</th>\n      <td>2001-01-01</td>\n      <td>C06</td>\n      <td>1.0</td>\n      <td>168000.0</td>\n      <td>168000.0</td>\n      <td>7.4</td>\n      <td>2.8</td>\n      <td>33393.91068</td>\n      <td>262.182</td>\n      <td>2641.687163</td>\n      <td>34801.0</td>\n      <td>36.8</td>\n      <td>45261.0</td>\n      <td>68.6</td>\n      <td>65.0</td>\n      <td>4882618.0</td>\n      <td>1457.0</td>\n      <td>511.0</td>\n    </tr>\n    <tr>\n      <th>31</th>\n      <td>2001-01-01</td>\n      <td>C04</td>\n      <td>9.0</td>\n      <td>248444.0</td>\n      <td>196000.0</td>\n      <td>7.4</td>\n      <td>2.8</td>\n      <td>33393.91068</td>\n      <td>262.182</td>\n      <td>2641.687163</td>\n      <td>34801.0</td>\n      <td>36.8</td>\n      <td>45261.0</td>\n      <td>68.6</td>\n      <td>65.0</td>\n      <td>4882618.0</td>\n      <td>1457.0</td>\n      <td>511.0</td>\n    </tr>\n    <tr>\n      <th>32</th>\n      <td>2001-01-01</td>\n      <td>E04</td>\n      <td>23.0</td>\n      <td>124935.0</td>\n      <td>123000.0</td>\n      <td>7.4</td>\n      <td>2.8</td>\n      <td>33393.91068</td>\n      <td>262.182</td>\n      <td>2641.687163</td>\n      <td>34801.0</td>\n      <td>36.8</td>\n      <td>45261.0</td>\n      <td>68.6</td>\n      <td>65.0</td>\n      <td>4882618.0</td>\n      <td>1457.0</td>\n      <td>511.0</td>\n    </tr>\n    <tr>\n      <th>33</th>\n      <td>2001-01-01</td>\n      <td>C11</td>\n      <td>12.0</td>\n      <td>128800.0</td>\n      <td>117350.0</td>\n      <td>7.4</td>\n      <td>2.8</td>\n      <td>33393.91068</td>\n      <td>262.182</td>\n      <td>2641.687163</td>\n      <td>34801.0</td>\n      <td>36.8</td>\n      <td>45261.0</td>\n      <td>68.6</td>\n      <td>65.0</td>\n      <td>4882618.0</td>\n      <td>1457.0</td>\n      <td>511.0</td>\n    </tr>\n    <tr>\n      <th>34</th>\n      <td>2001-01-01</td>\n      <td>E05</td>\n      <td>27.0</td>\n      <td>172778.0</td>\n      <td>169000.0</td>\n      <td>7.4</td>\n      <td>2.8</td>\n      <td>33393.91068</td>\n      <td>262.182</td>\n      <td>2641.687163</td>\n      <td>34801.0</td>\n      <td>36.8</td>\n      <td>45261.0</td>\n      <td>68.6</td>\n      <td>65.0</td>\n      <td>4882618.0</td>\n      <td>1457.0</td>\n      <td>511.0</td>\n    </tr>\n    <tr>\n      <th>35</th>\n      <td>2001-01-01</td>\n      <td>C09</td>\n      <td>3.0</td>\n      <td>389000.0</td>\n      <td>400000.0</td>\n      <td>7.4</td>\n      <td>2.8</td>\n      <td>33393.91068</td>\n      <td>262.182</td>\n      <td>2641.687163</td>\n      <td>34801.0</td>\n      <td>36.8</td>\n      <td>45261.0</td>\n      <td>68.6</td>\n      <td>65.0</td>\n      <td>4882618.0</td>\n      <td>1457.0</td>\n      <td>511.0</td>\n    </tr>\n  </tbody>\n</table>\n</div>"
     },
     "execution_count": 19,
     "metadata": {},
     "output_type": "execute_result"
    }
   ],
   "source": [
    "df1_date=df1[df1['Date']==datelist[0]]\n",
    "df1_date"
   ],
   "metadata": {
    "collapsed": false,
    "pycharm": {
     "name": "#%%\n"
    }
   }
  },
  {
   "cell_type": "code",
   "execution_count": 19,
   "outputs": [],
   "source": [],
   "metadata": {
    "collapsed": false,
    "pycharm": {
     "name": "#%%\n"
    }
   }
  },
  {
   "cell_type": "code",
   "execution_count": 19,
   "outputs": [],
   "source": [],
   "metadata": {
    "collapsed": false,
    "pycharm": {
     "name": "#%%\n"
    }
   }
  },
  {
   "cell_type": "code",
   "execution_count": 20,
   "outputs": [],
   "source": [
    "date1=Date(\n",
    "    Date=datelist[0],\n",
    "    Inflation=df1_date['Inflation'][0],\n",
    "    GDP=df1_date['GDP'][0],\n",
    "    Metal_Price=df1_date['Metal_Price'][0],\n",
    "    NASDAQ=df1_date['NASDAQ'][0],\n",
    ")\n",
    "session.add(date1)\n",
    "session.commit()"
   ],
   "metadata": {
    "collapsed": false,
    "pycharm": {
     "name": "#%%\n"
    }
   }
  },
  {
   "cell_type": "code",
   "execution_count": 21,
   "outputs": [],
   "source": [
    "new1=New(\n",
    "    Date_id=date1.Date_id,\n",
    "    Units_Number_Planned=df1_date['New_Units_Number_Planned'][0],\n",
    "    Units_Number_Construction=df1_date['New_Units_Number_Construction'][0],\n",
    ")\n",
    "session.add(new1)"
   ],
   "metadata": {
    "collapsed": false,
    "pycharm": {
     "name": "#%%\n"
    }
   }
  },
  {
   "cell_type": "code",
   "execution_count": 22,
   "outputs": [],
   "source": [
    "Toronto1=Toronto(\n",
    "    Date_id=date1.Date_id,\n",
    "    Prime_Rate=df1_date['Toronto_Participation_Rate'][0],\n",
    "    Median_Age=df1_date['Toronto_Median_Age'][0],\n",
    "    Participation_Rate=df1_date['Toronto_Participation_Rate'][0],\n",
    "    Employment_Rate=df1_date['Toronto_Employment_Rate'][0],\n",
    "    Population=df1_date['Toronto_Population'][0],\n",
    "    UT_Total_Enrollment=df1_date['UT_Total_Enrollment'][0],\n",
    ")\n",
    "session.add(Toronto1)"
   ],
   "metadata": {
    "collapsed": false,
    "pycharm": {
     "name": "#%%\n"
    }
   }
  },
  {
   "cell_type": "code",
   "execution_count": 23,
   "outputs": [],
   "source": [
    "ontario1=Ontario(\n",
    "    Date_id=date1.Date_id,\n",
    "    Immigrants_International=df1_date['Ontario_Immigrants_International'][0]\n",
    ")\n",
    "session.add(ontario1)"
   ],
   "metadata": {
    "collapsed": false,
    "pycharm": {
     "name": "#%%\n"
    }
   }
  },
  {
   "cell_type": "code",
   "execution_count": 24,
   "outputs": [
    {
     "data": {
      "text/plain": "         Date Area_Code Total_Condo_Sold_Number    Avg_Price Med_Price  \\\n18 2001-01-01       All                   528.0  185757.6686        NA   \n\n   Prime_Rate Inflation          GDP Metal_Price       NASDAQ  \\\n18        7.4       2.8  33393.91068     262.182  2641.687163   \n\n   Ontario_Immigrants_International Toronto_Median_Age UT_Total_Enrollment  \\\n18                          34801.0               36.8             45261.0   \n\n   Toronto_Participation_Rate Toronto_Employment_Rate Toronto_Population  \\\n18                       68.6                    65.0          4882618.0   \n\n   New_Units_Number_Planned New_Units_Number_Construction  \n18                   1457.0                         511.0  ",
      "text/html": "<div>\n<style scoped>\n    .dataframe tbody tr th:only-of-type {\n        vertical-align: middle;\n    }\n\n    .dataframe tbody tr th {\n        vertical-align: top;\n    }\n\n    .dataframe thead th {\n        text-align: right;\n    }\n</style>\n<table border=\"1\" class=\"dataframe\">\n  <thead>\n    <tr style=\"text-align: right;\">\n      <th></th>\n      <th>Date</th>\n      <th>Area_Code</th>\n      <th>Total_Condo_Sold_Number</th>\n      <th>Avg_Price</th>\n      <th>Med_Price</th>\n      <th>Prime_Rate</th>\n      <th>Inflation</th>\n      <th>GDP</th>\n      <th>Metal_Price</th>\n      <th>NASDAQ</th>\n      <th>Ontario_Immigrants_International</th>\n      <th>Toronto_Median_Age</th>\n      <th>UT_Total_Enrollment</th>\n      <th>Toronto_Participation_Rate</th>\n      <th>Toronto_Employment_Rate</th>\n      <th>Toronto_Population</th>\n      <th>New_Units_Number_Planned</th>\n      <th>New_Units_Number_Construction</th>\n    </tr>\n  </thead>\n  <tbody>\n    <tr>\n      <th>18</th>\n      <td>2001-01-01</td>\n      <td>All</td>\n      <td>528.0</td>\n      <td>185757.6686</td>\n      <td>NA</td>\n      <td>7.4</td>\n      <td>2.8</td>\n      <td>33393.91068</td>\n      <td>262.182</td>\n      <td>2641.687163</td>\n      <td>34801.0</td>\n      <td>36.8</td>\n      <td>45261.0</td>\n      <td>68.6</td>\n      <td>65.0</td>\n      <td>4882618.0</td>\n      <td>1457.0</td>\n      <td>511.0</td>\n    </tr>\n  </tbody>\n</table>\n</div>"
     },
     "execution_count": 24,
     "metadata": {},
     "output_type": "execute_result"
    }
   ],
   "source": [
    "df1_date[df1_date['Area_Code']=='All']"
   ],
   "metadata": {
    "collapsed": false,
    "pycharm": {
     "name": "#%%\n"
    }
   }
  },
  {
   "cell_type": "code",
   "execution_count": 25,
   "outputs": [],
   "source": [
    "all1=All(\n",
    "    Date_id=date1.Date_id,\n",
    "    Condo_Sold_Number=df1_date[df1_date['Area_Code']=='All']['Total_Condo_Sold_Number'].tolist()[0],\n",
    "    Avg_Price=df1_date[df1_date['Area_Code']=='All']['Avg_Price'].tolist()[0],\n",
    ")\n",
    "session.add(all1)"
   ],
   "metadata": {
    "collapsed": false,
    "pycharm": {
     "name": "#%%\n"
    }
   }
  },
  {
   "cell_type": "code",
   "execution_count": 26,
   "outputs": [
    {
     "data": {
      "text/plain": "528.0"
     },
     "execution_count": 26,
     "metadata": {},
     "output_type": "execute_result"
    }
   ],
   "source": [
    "\n",
    "df1_date[df1_date['Area_Code']=='All']['Total_Condo_Sold_Number'].tolist()[0]"
   ],
   "metadata": {
    "collapsed": false,
    "pycharm": {
     "name": "#%%\n"
    }
   }
  },
  {
   "cell_type": "code",
   "execution_count": 27,
   "outputs": [],
   "source": [
    "for i in range(df1_date.shape[0]):\n",
    "    price1=Price(\n",
    "        Date_id=date1.Date_id,\n",
    "        Area_Code=df1_date.iloc[i]['Area_Code'],\n",
    "        Total_Condo_Sold_Number=df1_date.iloc[i]['Total_Condo_Sold_Number'],\n",
    "        Avg_Price=df1_date.iloc[i]['Avg_Price'],\n",
    "        Med_Price=df1_date.iloc[i]['Med_Price'],\n",
    "    )\n",
    "    session.add(price1)"
   ],
   "metadata": {
    "collapsed": false,
    "pycharm": {
     "name": "#%%\n"
    }
   }
  },
  {
   "cell_type": "code",
   "execution_count": 45,
   "outputs": [
    {
     "data": {
      "text/plain": "Timestamp('2001-01-01 00:00:00')"
     },
     "execution_count": 45,
     "metadata": {},
     "output_type": "execute_result"
    }
   ],
   "source": [
    "session.commit()"
   ],
   "metadata": {
    "collapsed": false,
    "pycharm": {
     "name": "#%%\n"
    }
   }
  },
  {
   "cell_type": "code",
   "execution_count": null,
   "outputs": [],
   "source": [],
   "metadata": {
    "collapsed": false,
    "pycharm": {
     "name": "#%%\n"
    }
   }
  },
  {
   "cell_type": "code",
   "execution_count": null,
   "outputs": [],
   "source": [],
   "metadata": {
    "collapsed": false,
    "pycharm": {
     "name": "#%%\n"
    }
   }
  },
  {
   "cell_type": "code",
   "execution_count": 39,
   "outputs": [
    {
     "data": {
      "text/plain": "0     34801.0\n1     34801.0\n2     34801.0\n3     34801.0\n4     34801.0\n5     34801.0\n6     34801.0\n7     34801.0\n8     34801.0\n9     34801.0\n10    34801.0\n11    34801.0\n12    34801.0\n13    34801.0\n14    34801.0\n15    34801.0\n16    34801.0\n17    34801.0\n18    34801.0\n19    34801.0\n20    34801.0\n21    34801.0\n22    34801.0\n23    34801.0\n24    34801.0\n25    34801.0\n26    34801.0\n27    34801.0\n28    34801.0\n29    34801.0\n30    34801.0\n31    34801.0\n32    34801.0\n33    34801.0\n34    34801.0\n35    34801.0\nName: Ontario_Immigrants_International, dtype: object"
     },
     "execution_count": 39,
     "metadata": {},
     "output_type": "execute_result"
    }
   ],
   "source": [
    "df1_date['Ontario_Immigrants_International']#[0]"
   ],
   "metadata": {
    "collapsed": false,
    "pycharm": {
     "name": "#%%\n"
    }
   }
  },
  {
   "cell_type": "code",
   "execution_count": 28,
   "outputs": [],
   "source": [],
   "metadata": {
    "collapsed": false,
    "pycharm": {
     "name": "#%%\n"
    }
   }
  },
  {
   "cell_type": "code",
   "execution_count": 25,
   "outputs": [
    {
     "data": {
      "text/plain": "2"
     },
     "execution_count": 25,
     "metadata": {},
     "output_type": "execute_result"
    }
   ],
   "source": [
    "date1.Date_id\n"
   ],
   "metadata": {
    "collapsed": false,
    "pycharm": {
     "name": "#%%\n"
    }
   }
  },
  {
   "cell_type": "code",
   "execution_count": null,
   "outputs": [],
   "source": [],
   "metadata": {
    "collapsed": false,
    "pycharm": {
     "name": "#%%\n"
    }
   }
  }
 ],
 "metadata": {
  "kernelspec": {
   "display_name": "Python 3",
   "language": "python",
   "name": "python3"
  },
  "language_info": {
   "codemirror_mode": {
    "name": "ipython",
    "version": 2
   },
   "file_extension": ".py",
   "mimetype": "text/x-python",
   "name": "python",
   "nbconvert_exporter": "python",
   "pygments_lexer": "ipython2",
   "version": "2.7.6"
  }
 },
 "nbformat": 4,
 "nbformat_minor": 0
}