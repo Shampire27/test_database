{
 "cells": [
  {
   "cell_type": "code",
   "execution_count": 1,
   "metadata": {
    "collapsed": true
   },
   "outputs": [],
   "source": [
    "import pandas as pd\n",
    "import sqlalchemy"
   ]
  },
  {
   "cell_type": "code",
   "execution_count": 1,
   "outputs": [],
   "source": [],
   "metadata": {
    "collapsed": false,
    "pycharm": {
     "name": "#%%\n"
    }
   }
  },
  {
   "cell_type": "code",
   "execution_count": 2,
   "outputs": [],
   "source": [
    "from sqlalchemy import create_engine\n",
    "\n",
    "from sqlalchemy.orm import declarative_base\n",
    "from sqlalchemy import Column, Integer, String,Float,DateTime,ForeignKey"
   ],
   "metadata": {
    "collapsed": false,
    "pycharm": {
     "name": "#%%\n"
    }
   }
  },
  {
   "cell_type": "code",
   "execution_count": 3,
   "outputs": [],
   "source": [
    "username=input(\"username\")\n",
    "password=input(\"password\")\n",
    "ip_address=\"aws-mysql-ssaca.cssuvkukhmkq.us-east-2.rds.amazonaws.com\"\n",
    "port_id=\"3306\"\n",
    "database_name=\"test_database\""
   ],
   "metadata": {
    "collapsed": false,
    "pycharm": {
     "name": "#%%\n"
    }
   }
  },
  {
   "cell_type": "code",
   "execution_count": 4,
   "outputs": [],
   "source": [
    "engine = create_engine(f'mysql+pymysql://{username}:{password}@{ip_address}:{port_id}/{database_name}')\n",
    "connection=engine.connect()"
   ],
   "metadata": {
    "collapsed": false,
    "pycharm": {
     "name": "#%%\n"
    }
   }
  },
  {
   "cell_type": "code",
   "execution_count": 5,
   "outputs": [],
   "source": [
    "Base = declarative_base()"
   ],
   "metadata": {
    "collapsed": false,
    "pycharm": {
     "name": "#%%\n"
    }
   }
  },
  {
   "cell_type": "code",
   "execution_count": 6,
   "outputs": [],
   "source": [
    "class Date(Base):\n",
    "    __tablename__='Date'\n",
    "\n",
    "    Date_id=Column(Integer,autoincrement=True,primary_key=True)\n",
    "    Date=Column(DateTime)\n",
    "    Inflation=Column(Float)\n",
    "    GDP=Column(Float)\n",
    "    Metal_Price=Column(Float)\n",
    "    NASDAQ=Column(Float)\n"
   ],
   "metadata": {
    "collapsed": false,
    "pycharm": {
     "name": "#%%\n"
    }
   }
  },
  {
   "cell_type": "code",
   "execution_count": 7,
   "outputs": [],
   "source": [
    "class Price(Base):\n",
    "    __tablename__='Price'\n",
    "    id=Column(Integer,autoincrement=True,primary_key=True)\n",
    "    Date_id=Column(Integer,ForeignKey('Date.Date_id'))\n",
    "    Area_Code=Column(String)\n",
    "    Total_Condo_Sold_Number=Column(Integer)\n",
    "    Avg_Price=Column(Float)\n",
    "    Med_Price=Column(Integer)"
   ],
   "metadata": {
    "collapsed": false,
    "pycharm": {
     "name": "#%%\n"
    }
   }
  },
  {
   "cell_type": "code",
   "execution_count": 8,
   "outputs": [],
   "source": [
    "class Toronto(Base):\n",
    "    __tablename__='Toronto'\n",
    "    id=Column(Integer,autoincrement=True,primary_key=True)\n",
    "    Date_id=Column(Integer,ForeignKey('Date.Date_id'))\n",
    "    Prime_Rate=Column(Float)\n",
    "    Median_Age=Column(Float)\n",
    "    Participation_Rate=Column(Float)\n",
    "    Employment_Rate=Column(Float)\n",
    "    Population=Column(Float)\n",
    "    UT_Total_Enrollment=Column(Integer)\n"
   ],
   "metadata": {
    "collapsed": false,
    "pycharm": {
     "name": "#%%\n"
    }
   }
  },
  {
   "cell_type": "code",
   "execution_count": 8,
   "outputs": [],
   "source": [
    "class New(Base):\n",
    "    __tablename__='New'\n",
    "    id=Column(Integer,autoincrement=True,primary_key=True)\n",
    "    Date_id=Column(Integer,ForeignKey('Date.Date_id'))\n",
    "    Units_Number_Planned=Column(Integer)\n",
    "    Units_Number_Construction=Column(Integer)"
   ],
   "metadata": {
    "collapsed": false,
    "pycharm": {
     "name": "#%%\n"
    }
   }
  },
  {
   "cell_type": "code",
   "execution_count": 8,
   "outputs": [],
   "source": [],
   "metadata": {
    "collapsed": false,
    "pycharm": {
     "name": "#%%\n"
    }
   }
  },
  {
   "cell_type": "code",
   "execution_count": null,
   "outputs": [],
   "source": [],
   "metadata": {
    "collapsed": false,
    "pycharm": {
     "name": "#%%\n"
    }
   }
  },
  {
   "cell_type": "code",
   "execution_count": 2,
   "outputs": [],
   "source": [
    "df=pd.read_json(\"files/raw_data.json\")"
   ],
   "metadata": {
    "collapsed": false,
    "pycharm": {
     "name": "#%%\n"
    }
   }
  },
  {
   "cell_type": "code",
   "execution_count": 3,
   "outputs": [],
   "source": [
    "df1=df.T"
   ],
   "metadata": {
    "collapsed": false,
    "pycharm": {
     "name": "#%%\n"
    }
   }
  },
  {
   "cell_type": "code",
   "execution_count": 11,
   "outputs": [
    {
     "data": {
      "text/plain": "            Date Area_Code Total_Condo_Sold_Number   Avg_Price Med_Price  \\\n0     2001-01-01       E02                     5.0    214180.0  229000.0   \n1     2001-01-01       W09                    15.0    108467.0   93000.0   \n2     2001-01-01       W08                    18.0    218839.0  150000.0   \n3     2001-01-01       W07                     1.0    179500.0  179500.0   \n4     2001-01-01       W06                    15.0    224660.0  190000.0   \n...          ...       ...                     ...         ...       ...   \n8773  2021-04-01       W07                     4.0    827000.0  847500.0   \n8774  2021-04-01       W08                   113.0    639655.0  600000.0   \n8775  2021-04-01       W02                    31.0    720145.0  671000.0   \n8776  2021-04-01       W03                    12.0    593675.0  580000.0   \n8777  2021-04-01       All                  2277.0  727137.343        NA   \n\n     Prime_Rate Inflation          GDP Metal_Price       NASDAQ  \\\n0           7.4       2.8  33393.91068     262.182  2641.687163   \n1           7.4       2.8  33393.91068     262.182  2641.687163   \n2           7.4       2.8  33393.91068     262.182  2641.687163   \n3           7.4       2.8  33393.91068     262.182  2641.687163   \n4           7.4       2.8  33393.91068     262.182  2641.687163   \n...         ...       ...          ...         ...          ...   \n8773       2.45       0.7  46006.79326    683.0225  13889.21294   \n8774       2.45       0.7  46006.79326    683.0225  13889.21294   \n8775       2.45       0.7  46006.79326    683.0225  13889.21294   \n8776       2.45       0.7  46006.79326    683.0225  13889.21294   \n8777       2.45       0.7  46006.79326    683.0225  13889.21294   \n\n     Ontario_Immigrants_International Toronto_Median_Age UT_Total_Enrollment  \\\n0                             34801.0               36.8             45261.0   \n1                             34801.0               36.8             45261.0   \n2                             34801.0               36.8             45261.0   \n3                             34801.0               36.8             45261.0   \n4                             34801.0               36.8             45261.0   \n...                               ...                ...                 ...   \n8773                          17281.0               40.4             83970.0   \n8774                          17281.0               40.4             83970.0   \n8775                          17281.0               40.4             83970.0   \n8776                          17281.0               40.4             83970.0   \n8777                          17281.0               40.4             83970.0   \n\n     Toronto_Participation_Rate Toronto_Employment_Rate Toronto_Population  \\\n0                          68.6                    65.0          4882618.0   \n1                          68.6                    65.0          4882618.0   \n2                          68.6                    65.0          4882618.0   \n3                          68.6                    65.0          4882618.0   \n4                          68.6                    65.0          4882618.0   \n...                         ...                     ...                ...   \n8773                       64.7                    58.4          6555205.0   \n8774                       64.7                    58.4          6555205.0   \n8775                       64.7                    58.4          6555205.0   \n8776                       64.7                    58.4          6555205.0   \n8777                       64.7                    58.4          6555205.0   \n\n     New_Units_Number_Planned New_Units_Number_Construction  \n0                      1457.0                         511.0  \n1                      1457.0                         511.0  \n2                      1457.0                         511.0  \n3                      1457.0                         511.0  \n4                      1457.0                         511.0  \n...                       ...                           ...  \n8773                   3986.0                        2271.0  \n8774                   3986.0                        2271.0  \n8775                   3986.0                        2271.0  \n8776                   3986.0                        2271.0  \n8777                   3986.0                        2271.0  \n\n[8778 rows x 18 columns]",
      "text/html": "<div>\n<style scoped>\n    .dataframe tbody tr th:only-of-type {\n        vertical-align: middle;\n    }\n\n    .dataframe tbody tr th {\n        vertical-align: top;\n    }\n\n    .dataframe thead th {\n        text-align: right;\n    }\n</style>\n<table border=\"1\" class=\"dataframe\">\n  <thead>\n    <tr style=\"text-align: right;\">\n      <th></th>\n      <th>Date</th>\n      <th>Area_Code</th>\n      <th>Total_Condo_Sold_Number</th>\n      <th>Avg_Price</th>\n      <th>Med_Price</th>\n      <th>Prime_Rate</th>\n      <th>Inflation</th>\n      <th>GDP</th>\n      <th>Metal_Price</th>\n      <th>NASDAQ</th>\n      <th>Ontario_Immigrants_International</th>\n      <th>Toronto_Median_Age</th>\n      <th>UT_Total_Enrollment</th>\n      <th>Toronto_Participation_Rate</th>\n      <th>Toronto_Employment_Rate</th>\n      <th>Toronto_Population</th>\n      <th>New_Units_Number_Planned</th>\n      <th>New_Units_Number_Construction</th>\n    </tr>\n  </thead>\n  <tbody>\n    <tr>\n      <th>0</th>\n      <td>2001-01-01</td>\n      <td>E02</td>\n      <td>5.0</td>\n      <td>214180.0</td>\n      <td>229000.0</td>\n      <td>7.4</td>\n      <td>2.8</td>\n      <td>33393.91068</td>\n      <td>262.182</td>\n      <td>2641.687163</td>\n      <td>34801.0</td>\n      <td>36.8</td>\n      <td>45261.0</td>\n      <td>68.6</td>\n      <td>65.0</td>\n      <td>4882618.0</td>\n      <td>1457.0</td>\n      <td>511.0</td>\n    </tr>\n    <tr>\n      <th>1</th>\n      <td>2001-01-01</td>\n      <td>W09</td>\n      <td>15.0</td>\n      <td>108467.0</td>\n      <td>93000.0</td>\n      <td>7.4</td>\n      <td>2.8</td>\n      <td>33393.91068</td>\n      <td>262.182</td>\n      <td>2641.687163</td>\n      <td>34801.0</td>\n      <td>36.8</td>\n      <td>45261.0</td>\n      <td>68.6</td>\n      <td>65.0</td>\n      <td>4882618.0</td>\n      <td>1457.0</td>\n      <td>511.0</td>\n    </tr>\n    <tr>\n      <th>2</th>\n      <td>2001-01-01</td>\n      <td>W08</td>\n      <td>18.0</td>\n      <td>218839.0</td>\n      <td>150000.0</td>\n      <td>7.4</td>\n      <td>2.8</td>\n      <td>33393.91068</td>\n      <td>262.182</td>\n      <td>2641.687163</td>\n      <td>34801.0</td>\n      <td>36.8</td>\n      <td>45261.0</td>\n      <td>68.6</td>\n      <td>65.0</td>\n      <td>4882618.0</td>\n      <td>1457.0</td>\n      <td>511.0</td>\n    </tr>\n    <tr>\n      <th>3</th>\n      <td>2001-01-01</td>\n      <td>W07</td>\n      <td>1.0</td>\n      <td>179500.0</td>\n      <td>179500.0</td>\n      <td>7.4</td>\n      <td>2.8</td>\n      <td>33393.91068</td>\n      <td>262.182</td>\n      <td>2641.687163</td>\n      <td>34801.0</td>\n      <td>36.8</td>\n      <td>45261.0</td>\n      <td>68.6</td>\n      <td>65.0</td>\n      <td>4882618.0</td>\n      <td>1457.0</td>\n      <td>511.0</td>\n    </tr>\n    <tr>\n      <th>4</th>\n      <td>2001-01-01</td>\n      <td>W06</td>\n      <td>15.0</td>\n      <td>224660.0</td>\n      <td>190000.0</td>\n      <td>7.4</td>\n      <td>2.8</td>\n      <td>33393.91068</td>\n      <td>262.182</td>\n      <td>2641.687163</td>\n      <td>34801.0</td>\n      <td>36.8</td>\n      <td>45261.0</td>\n      <td>68.6</td>\n      <td>65.0</td>\n      <td>4882618.0</td>\n      <td>1457.0</td>\n      <td>511.0</td>\n    </tr>\n    <tr>\n      <th>...</th>\n      <td>...</td>\n      <td>...</td>\n      <td>...</td>\n      <td>...</td>\n      <td>...</td>\n      <td>...</td>\n      <td>...</td>\n      <td>...</td>\n      <td>...</td>\n      <td>...</td>\n      <td>...</td>\n      <td>...</td>\n      <td>...</td>\n      <td>...</td>\n      <td>...</td>\n      <td>...</td>\n      <td>...</td>\n      <td>...</td>\n    </tr>\n    <tr>\n      <th>8773</th>\n      <td>2021-04-01</td>\n      <td>W07</td>\n      <td>4.0</td>\n      <td>827000.0</td>\n      <td>847500.0</td>\n      <td>2.45</td>\n      <td>0.7</td>\n      <td>46006.79326</td>\n      <td>683.0225</td>\n      <td>13889.21294</td>\n      <td>17281.0</td>\n      <td>40.4</td>\n      <td>83970.0</td>\n      <td>64.7</td>\n      <td>58.4</td>\n      <td>6555205.0</td>\n      <td>3986.0</td>\n      <td>2271.0</td>\n    </tr>\n    <tr>\n      <th>8774</th>\n      <td>2021-04-01</td>\n      <td>W08</td>\n      <td>113.0</td>\n      <td>639655.0</td>\n      <td>600000.0</td>\n      <td>2.45</td>\n      <td>0.7</td>\n      <td>46006.79326</td>\n      <td>683.0225</td>\n      <td>13889.21294</td>\n      <td>17281.0</td>\n      <td>40.4</td>\n      <td>83970.0</td>\n      <td>64.7</td>\n      <td>58.4</td>\n      <td>6555205.0</td>\n      <td>3986.0</td>\n      <td>2271.0</td>\n    </tr>\n    <tr>\n      <th>8775</th>\n      <td>2021-04-01</td>\n      <td>W02</td>\n      <td>31.0</td>\n      <td>720145.0</td>\n      <td>671000.0</td>\n      <td>2.45</td>\n      <td>0.7</td>\n      <td>46006.79326</td>\n      <td>683.0225</td>\n      <td>13889.21294</td>\n      <td>17281.0</td>\n      <td>40.4</td>\n      <td>83970.0</td>\n      <td>64.7</td>\n      <td>58.4</td>\n      <td>6555205.0</td>\n      <td>3986.0</td>\n      <td>2271.0</td>\n    </tr>\n    <tr>\n      <th>8776</th>\n      <td>2021-04-01</td>\n      <td>W03</td>\n      <td>12.0</td>\n      <td>593675.0</td>\n      <td>580000.0</td>\n      <td>2.45</td>\n      <td>0.7</td>\n      <td>46006.79326</td>\n      <td>683.0225</td>\n      <td>13889.21294</td>\n      <td>17281.0</td>\n      <td>40.4</td>\n      <td>83970.0</td>\n      <td>64.7</td>\n      <td>58.4</td>\n      <td>6555205.0</td>\n      <td>3986.0</td>\n      <td>2271.0</td>\n    </tr>\n    <tr>\n      <th>8777</th>\n      <td>2021-04-01</td>\n      <td>All</td>\n      <td>2277.0</td>\n      <td>727137.343</td>\n      <td>NA</td>\n      <td>2.45</td>\n      <td>0.7</td>\n      <td>46006.79326</td>\n      <td>683.0225</td>\n      <td>13889.21294</td>\n      <td>17281.0</td>\n      <td>40.4</td>\n      <td>83970.0</td>\n      <td>64.7</td>\n      <td>58.4</td>\n      <td>6555205.0</td>\n      <td>3986.0</td>\n      <td>2271.0</td>\n    </tr>\n  </tbody>\n</table>\n<p>8778 rows × 18 columns</p>\n</div>"
     },
     "execution_count": 11,
     "metadata": {},
     "output_type": "execute_result"
    }
   ],
   "source": [
    "df1"
   ],
   "metadata": {
    "collapsed": false,
    "pycharm": {
     "name": "#%%\n"
    }
   }
  },
  {
   "cell_type": "code",
   "execution_count": 15,
   "outputs": [],
   "source": [
    "df1['Date']=df1['Date'].astype('datetime64')"
   ],
   "metadata": {
    "collapsed": false,
    "pycharm": {
     "name": "#%%\n"
    }
   }
  },
  {
   "cell_type": "code",
   "execution_count": 16,
   "outputs": [
    {
     "name": "stdout",
     "output_type": "stream",
     "text": [
      "<class 'pandas.core.frame.DataFrame'>\n",
      "Int64Index: 8778 entries, 0 to 8777\n",
      "Data columns (total 18 columns):\n",
      " #   Column                            Non-Null Count  Dtype         \n",
      "---  ------                            --------------  -----         \n",
      " 0   Date                              8778 non-null   datetime64[ns]\n",
      " 1   Area_Code                         8778 non-null   object        \n",
      " 2   Total_Condo_Sold_Number           8778 non-null   object        \n",
      " 3   Avg_Price                         8778 non-null   object        \n",
      " 4   Med_Price                         8778 non-null   object        \n",
      " 5   Prime_Rate                        8778 non-null   object        \n",
      " 6   Inflation                         8778 non-null   object        \n",
      " 7   GDP                               8778 non-null   object        \n",
      " 8   Metal_Price                       8778 non-null   object        \n",
      " 9   NASDAQ                            8778 non-null   object        \n",
      " 10  Ontario_Immigrants_International  8778 non-null   object        \n",
      " 11  Toronto_Median_Age                8778 non-null   object        \n",
      " 12  UT_Total_Enrollment               8778 non-null   object        \n",
      " 13  Toronto_Participation_Rate        8778 non-null   object        \n",
      " 14  Toronto_Employment_Rate           8778 non-null   object        \n",
      " 15  Toronto_Population                8778 non-null   object        \n",
      " 16  New_Units_Number_Planned          8778 non-null   object        \n",
      " 17  New_Units_Number_Construction     8778 non-null   object        \n",
      "dtypes: datetime64[ns](1), object(17)\n",
      "memory usage: 1.5+ MB\n"
     ]
    }
   ],
   "source": [
    "df1.info()\n"
   ],
   "metadata": {
    "collapsed": false,
    "pycharm": {
     "name": "#%%\n"
    }
   }
  },
  {
   "cell_type": "code",
   "execution_count": null,
   "outputs": [],
   "source": [],
   "metadata": {
    "collapsed": false,
    "pycharm": {
     "name": "#%%\n"
    }
   }
  }
 ],
 "metadata": {
  "kernelspec": {
   "display_name": "Python 3",
   "language": "python",
   "name": "python3"
  },
  "language_info": {
   "codemirror_mode": {
    "name": "ipython",
    "version": 2
   },
   "file_extension": ".py",
   "mimetype": "text/x-python",
   "name": "python",
   "nbconvert_exporter": "python",
   "pygments_lexer": "ipython2",
   "version": "2.7.6"
  }
 },
 "nbformat": 4,
 "nbformat_minor": 0
}