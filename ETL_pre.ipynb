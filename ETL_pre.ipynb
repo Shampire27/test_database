{
 "cells": [
  {
   "cell_type": "code",
   "execution_count": 5,
   "metadata": {
    "collapsed": true
   },
   "outputs": [],
   "source": [
    "import pandas as pd\n",
    "import sqlalchemy"
   ]
  },
  {
   "cell_type": "code",
   "execution_count": 5,
   "outputs": [],
   "source": [],
   "metadata": {
    "collapsed": false,
    "pycharm": {
     "name": "#%%\n"
    }
   }
  },
  {
   "cell_type": "code",
   "execution_count": 22,
   "outputs": [],
   "source": [
    "from sqlalchemy import create_engine\n",
    "\n",
    "from sqlalchemy.orm import declarative_base\n",
    "from sqlalchemy import Column, Integer, String,Float,DateTime,ForeignKey"
   ],
   "metadata": {
    "collapsed": false,
    "pycharm": {
     "name": "#%%\n"
    }
   }
  },
  {
   "cell_type": "code",
   "execution_count": 7,
   "outputs": [],
   "source": [
    "username=input(\"username\")\n",
    "password=input(\"password\")\n",
    "ip_address=\"aws-mysql-ssaca.cssuvkukhmkq.us-east-2.rds.amazonaws.com\"\n",
    "port_id=\"3306\"\n",
    "database_name=\"test_database\""
   ],
   "metadata": {
    "collapsed": false,
    "pycharm": {
     "name": "#%%\n"
    }
   }
  },
  {
   "cell_type": "code",
   "execution_count": 17,
   "outputs": [
    {
     "ename": "NameError",
     "evalue": "name 'declarative_base' is not defined",
     "output_type": "error",
     "traceback": [
      "\u001B[1;31m---------------------------------------------------------------------------\u001B[0m",
      "\u001B[1;31mNameError\u001B[0m                                 Traceback (most recent call last)",
      "\u001B[1;32m<ipython-input-17-296c08aedcf4>\u001B[0m in \u001B[0;36m<module>\u001B[1;34m\u001B[0m\n\u001B[0;32m      1\u001B[0m \u001B[0mengine\u001B[0m \u001B[1;33m=\u001B[0m \u001B[0mcreate_engine\u001B[0m\u001B[1;33m(\u001B[0m\u001B[1;34mf'mysql+pymysql://{username}:{password}@{ip_address}:{port_id}/{database_name}'\u001B[0m\u001B[1;33m)\u001B[0m\u001B[1;33m\u001B[0m\u001B[1;33m\u001B[0m\u001B[0m\n\u001B[0;32m      2\u001B[0m \u001B[0mconnection\u001B[0m\u001B[1;33m=\u001B[0m\u001B[0mengine\u001B[0m\u001B[1;33m.\u001B[0m\u001B[0mconnect\u001B[0m\u001B[1;33m(\u001B[0m\u001B[1;33m)\u001B[0m\u001B[1;33m\u001B[0m\u001B[1;33m\u001B[0m\u001B[0m\n\u001B[1;32m----> 3\u001B[1;33m \u001B[0mBase\u001B[0m \u001B[1;33m=\u001B[0m \u001B[0mdeclarative_base\u001B[0m\u001B[1;33m(\u001B[0m\u001B[1;33m)\u001B[0m\u001B[1;33m\u001B[0m\u001B[1;33m\u001B[0m\u001B[0m\n\u001B[0m",
      "\u001B[1;31mNameError\u001B[0m: name 'declarative_base' is not defined"
     ]
    }
   ],
   "source": [
    "engine = create_engine(f'mysql+pymysql://{username}:{password}@{ip_address}:{port_id}/{database_name}')\n",
    "connection=engine.connect()"
   ],
   "metadata": {
    "collapsed": false,
    "pycharm": {
     "name": "#%%\n"
    }
   }
  },
  {
   "cell_type": "code",
   "execution_count": 23,
   "outputs": [],
   "source": [
    "Base = declarative_base()"
   ],
   "metadata": {
    "collapsed": false,
    "pycharm": {
     "name": "#%%\n"
    }
   }
  },
  {
   "cell_type": "code",
   "execution_count": 24,
   "outputs": [],
   "source": [
    "class Date(Base):\n",
    "    __tablename__='Date'\n",
    "\n",
    "    Date_id=Column(Integer,autoincrement=True,primary_key=True)\n",
    "    Date=Column(DateTime)\n",
    "    Inflation=Column(Float)\n",
    "    GDP=Column(Float)\n",
    "    Metal_Price=Column(Float)\n",
    "    NASDAQ=Column(Float)\n"
   ],
   "metadata": {
    "collapsed": false,
    "pycharm": {
     "name": "#%%\n"
    }
   }
  },
  {
   "cell_type": "code",
   "execution_count": 26,
   "outputs": [
    {
     "name": "stderr",
     "output_type": "stream",
     "text": [
      "<ipython-input-26-1706c26d23f6>:1: SAWarning: This declarative base already contains a class with the same class name and module name as __main__.Price, and will be replaced in the string-lookup table.\n",
      "  class Price(Base):\n"
     ]
    },
    {
     "ename": "InvalidRequestError",
     "evalue": "Table 'Price' is already defined for this MetaData instance.  Specify 'extend_existing=True' to redefine options and columns on an existing Table object.",
     "output_type": "error",
     "traceback": [
      "\u001B[1;31m---------------------------------------------------------------------------\u001B[0m",
      "\u001B[1;31mInvalidRequestError\u001B[0m                       Traceback (most recent call last)",
      "\u001B[1;32m<ipython-input-26-1706c26d23f6>\u001B[0m in \u001B[0;36m<module>\u001B[1;34m\u001B[0m\n\u001B[1;32m----> 1\u001B[1;33m \u001B[1;32mclass\u001B[0m \u001B[0mPrice\u001B[0m\u001B[1;33m(\u001B[0m\u001B[0mBase\u001B[0m\u001B[1;33m)\u001B[0m\u001B[1;33m:\u001B[0m\u001B[1;33m\u001B[0m\u001B[1;33m\u001B[0m\u001B[0m\n\u001B[0m\u001B[0;32m      2\u001B[0m     \u001B[0m__tablename__\u001B[0m\u001B[1;33m=\u001B[0m\u001B[1;34m'Price'\u001B[0m\u001B[1;33m\u001B[0m\u001B[1;33m\u001B[0m\u001B[0m\n\u001B[0;32m      3\u001B[0m     \u001B[0mid\u001B[0m\u001B[1;33m=\u001B[0m\u001B[0mColumn\u001B[0m\u001B[1;33m(\u001B[0m\u001B[0mInteger\u001B[0m\u001B[1;33m,\u001B[0m\u001B[0mautoincrement\u001B[0m\u001B[1;33m=\u001B[0m\u001B[1;32mTrue\u001B[0m\u001B[1;33m,\u001B[0m\u001B[0mprimary_key\u001B[0m\u001B[1;33m=\u001B[0m\u001B[1;32mTrue\u001B[0m\u001B[1;33m)\u001B[0m\u001B[1;33m\u001B[0m\u001B[1;33m\u001B[0m\u001B[0m\n\u001B[0;32m      4\u001B[0m     \u001B[0mDate_id\u001B[0m\u001B[1;33m=\u001B[0m\u001B[0mColumn\u001B[0m\u001B[1;33m(\u001B[0m\u001B[0mInteger\u001B[0m\u001B[1;33m,\u001B[0m\u001B[0mForeignKey\u001B[0m\u001B[1;33m(\u001B[0m\u001B[1;34m'Date.Date_id'\u001B[0m\u001B[1;33m)\u001B[0m\u001B[1;33m)\u001B[0m\u001B[1;33m\u001B[0m\u001B[1;33m\u001B[0m\u001B[0m\n\u001B[0;32m      5\u001B[0m     \u001B[0mArea_Code\u001B[0m\u001B[1;33m=\u001B[0m\u001B[0mColumn\u001B[0m\u001B[1;33m(\u001B[0m\u001B[0mString\u001B[0m\u001B[1;33m)\u001B[0m\u001B[1;33m\u001B[0m\u001B[1;33m\u001B[0m\u001B[0m\n",
      "\u001B[1;32md:\\github\\test_database\\venv\\lib\\site-packages\\sqlalchemy\\orm\\decl_api.py\u001B[0m in \u001B[0;36m__init__\u001B[1;34m(cls, classname, bases, dict_, **kw)\u001B[0m\n\u001B[0;32m     70\u001B[0m \u001B[1;33m\u001B[0m\u001B[0m\n\u001B[0;32m     71\u001B[0m         \u001B[1;32mif\u001B[0m \u001B[1;32mnot\u001B[0m \u001B[0mcls\u001B[0m\u001B[1;33m.\u001B[0m\u001B[0m__dict__\u001B[0m\u001B[1;33m.\u001B[0m\u001B[0mget\u001B[0m\u001B[1;33m(\u001B[0m\u001B[1;34m\"__abstract__\"\u001B[0m\u001B[1;33m,\u001B[0m \u001B[1;32mFalse\u001B[0m\u001B[1;33m)\u001B[0m\u001B[1;33m:\u001B[0m\u001B[1;33m\u001B[0m\u001B[1;33m\u001B[0m\u001B[0m\n\u001B[1;32m---> 72\u001B[1;33m             \u001B[0m_as_declarative\u001B[0m\u001B[1;33m(\u001B[0m\u001B[0mreg\u001B[0m\u001B[1;33m,\u001B[0m \u001B[0mcls\u001B[0m\u001B[1;33m,\u001B[0m \u001B[0mdict_\u001B[0m\u001B[1;33m)\u001B[0m\u001B[1;33m\u001B[0m\u001B[1;33m\u001B[0m\u001B[0m\n\u001B[0m\u001B[0;32m     73\u001B[0m         \u001B[0mtype\u001B[0m\u001B[1;33m.\u001B[0m\u001B[0m__init__\u001B[0m\u001B[1;33m(\u001B[0m\u001B[0mcls\u001B[0m\u001B[1;33m,\u001B[0m \u001B[0mclassname\u001B[0m\u001B[1;33m,\u001B[0m \u001B[0mbases\u001B[0m\u001B[1;33m,\u001B[0m \u001B[0mdict_\u001B[0m\u001B[1;33m)\u001B[0m\u001B[1;33m\u001B[0m\u001B[1;33m\u001B[0m\u001B[0m\n\u001B[0;32m     74\u001B[0m \u001B[1;33m\u001B[0m\u001B[0m\n",
      "\u001B[1;32md:\\github\\test_database\\venv\\lib\\site-packages\\sqlalchemy\\orm\\decl_base.py\u001B[0m in \u001B[0;36m_as_declarative\u001B[1;34m(registry, cls, dict_)\u001B[0m\n\u001B[0;32m    124\u001B[0m     \u001B[1;31m# args passed separately.\u001B[0m\u001B[1;33m\u001B[0m\u001B[1;33m\u001B[0m\u001B[1;33m\u001B[0m\u001B[0m\n\u001B[0;32m    125\u001B[0m \u001B[1;33m\u001B[0m\u001B[0m\n\u001B[1;32m--> 126\u001B[1;33m     \u001B[1;32mreturn\u001B[0m \u001B[0m_MapperConfig\u001B[0m\u001B[1;33m.\u001B[0m\u001B[0msetup_mapping\u001B[0m\u001B[1;33m(\u001B[0m\u001B[0mregistry\u001B[0m\u001B[1;33m,\u001B[0m \u001B[0mcls\u001B[0m\u001B[1;33m,\u001B[0m \u001B[0mdict_\u001B[0m\u001B[1;33m,\u001B[0m \u001B[1;32mNone\u001B[0m\u001B[1;33m,\u001B[0m \u001B[1;33m{\u001B[0m\u001B[1;33m}\u001B[0m\u001B[1;33m)\u001B[0m\u001B[1;33m\u001B[0m\u001B[1;33m\u001B[0m\u001B[0m\n\u001B[0m\u001B[0;32m    127\u001B[0m \u001B[1;33m\u001B[0m\u001B[0m\n\u001B[0;32m    128\u001B[0m \u001B[1;33m\u001B[0m\u001B[0m\n",
      "\u001B[1;32md:\\github\\test_database\\venv\\lib\\site-packages\\sqlalchemy\\orm\\decl_base.py\u001B[0m in \u001B[0;36msetup_mapping\u001B[1;34m(cls, registry, cls_, dict_, table, mapper_kw)\u001B[0m\n\u001B[0;32m    175\u001B[0m             \u001B[0mcfg_cls\u001B[0m \u001B[1;33m=\u001B[0m \u001B[0m_ClassScanMapperConfig\u001B[0m\u001B[1;33m\u001B[0m\u001B[1;33m\u001B[0m\u001B[0m\n\u001B[0;32m    176\u001B[0m \u001B[1;33m\u001B[0m\u001B[0m\n\u001B[1;32m--> 177\u001B[1;33m         \u001B[1;32mreturn\u001B[0m \u001B[0mcfg_cls\u001B[0m\u001B[1;33m(\u001B[0m\u001B[0mregistry\u001B[0m\u001B[1;33m,\u001B[0m \u001B[0mcls_\u001B[0m\u001B[1;33m,\u001B[0m \u001B[0mdict_\u001B[0m\u001B[1;33m,\u001B[0m \u001B[0mtable\u001B[0m\u001B[1;33m,\u001B[0m \u001B[0mmapper_kw\u001B[0m\u001B[1;33m)\u001B[0m\u001B[1;33m\u001B[0m\u001B[1;33m\u001B[0m\u001B[0m\n\u001B[0m\u001B[0;32m    178\u001B[0m \u001B[1;33m\u001B[0m\u001B[0m\n\u001B[0;32m    179\u001B[0m     \u001B[1;32mdef\u001B[0m \u001B[0m__init__\u001B[0m\u001B[1;33m(\u001B[0m\u001B[0mself\u001B[0m\u001B[1;33m,\u001B[0m \u001B[0mregistry\u001B[0m\u001B[1;33m,\u001B[0m \u001B[0mcls_\u001B[0m\u001B[1;33m)\u001B[0m\u001B[1;33m:\u001B[0m\u001B[1;33m\u001B[0m\u001B[1;33m\u001B[0m\u001B[0m\n",
      "\u001B[1;32md:\\github\\test_database\\venv\\lib\\site-packages\\sqlalchemy\\orm\\decl_base.py\u001B[0m in \u001B[0;36m__init__\u001B[1;34m(self, registry, cls_, dict_, table, mapper_kw)\u001B[0m\n\u001B[0;32m    308\u001B[0m             \u001B[0mself\u001B[0m\u001B[1;33m.\u001B[0m\u001B[0m_extract_declared_columns\u001B[0m\u001B[1;33m(\u001B[0m\u001B[1;33m)\u001B[0m\u001B[1;33m\u001B[0m\u001B[1;33m\u001B[0m\u001B[0m\n\u001B[0;32m    309\u001B[0m \u001B[1;33m\u001B[0m\u001B[0m\n\u001B[1;32m--> 310\u001B[1;33m             \u001B[0mself\u001B[0m\u001B[1;33m.\u001B[0m\u001B[0m_setup_table\u001B[0m\u001B[1;33m(\u001B[0m\u001B[0mtable\u001B[0m\u001B[1;33m)\u001B[0m\u001B[1;33m\u001B[0m\u001B[1;33m\u001B[0m\u001B[0m\n\u001B[0m\u001B[0;32m    311\u001B[0m \u001B[1;33m\u001B[0m\u001B[0m\n\u001B[0;32m    312\u001B[0m             \u001B[0mself\u001B[0m\u001B[1;33m.\u001B[0m\u001B[0m_setup_inheritance\u001B[0m\u001B[1;33m(\u001B[0m\u001B[0mmapper_kw\u001B[0m\u001B[1;33m)\u001B[0m\u001B[1;33m\u001B[0m\u001B[1;33m\u001B[0m\u001B[0m\n",
      "\u001B[1;32md:\\github\\test_database\\venv\\lib\\site-packages\\sqlalchemy\\orm\\decl_base.py\u001B[0m in \u001B[0;36m_setup_table\u001B[1;34m(self, table)\u001B[0m\n\u001B[0;32m    797\u001B[0m                 table = self.set_cls_attribute(\n\u001B[0;32m    798\u001B[0m                     \u001B[1;34m\"__table__\"\u001B[0m\u001B[1;33m,\u001B[0m\u001B[1;33m\u001B[0m\u001B[1;33m\u001B[0m\u001B[0m\n\u001B[1;32m--> 799\u001B[1;33m                     table_cls(\n\u001B[0m\u001B[0;32m    800\u001B[0m                         \u001B[0mtablename\u001B[0m\u001B[1;33m,\u001B[0m\u001B[1;33m\u001B[0m\u001B[1;33m\u001B[0m\u001B[0m\n\u001B[0;32m    801\u001B[0m                         \u001B[0mself\u001B[0m\u001B[1;33m.\u001B[0m\u001B[0m_metadata_for_cls\u001B[0m\u001B[1;33m(\u001B[0m\u001B[0mmanager\u001B[0m\u001B[1;33m)\u001B[0m\u001B[1;33m,\u001B[0m\u001B[1;33m\u001B[0m\u001B[1;33m\u001B[0m\u001B[0m\n",
      "\u001B[1;32m<string>\u001B[0m in \u001B[0;36m__new__\u001B[1;34m(cls, *args, **kw)\u001B[0m\n",
      "\u001B[1;32md:\\github\\test_database\\venv\\lib\\site-packages\\sqlalchemy\\util\\deprecations.py\u001B[0m in \u001B[0;36mwarned\u001B[1;34m(fn, *args, **kwargs)\u001B[0m\n\u001B[0;32m    296\u001B[0m                         \u001B[0mstacklevel\u001B[0m\u001B[1;33m=\u001B[0m\u001B[1;36m3\u001B[0m\u001B[1;33m,\u001B[0m\u001B[1;33m\u001B[0m\u001B[1;33m\u001B[0m\u001B[0m\n\u001B[0;32m    297\u001B[0m                     )\n\u001B[1;32m--> 298\u001B[1;33m             \u001B[1;32mreturn\u001B[0m \u001B[0mfn\u001B[0m\u001B[1;33m(\u001B[0m\u001B[1;33m*\u001B[0m\u001B[0margs\u001B[0m\u001B[1;33m,\u001B[0m \u001B[1;33m**\u001B[0m\u001B[0mkwargs\u001B[0m\u001B[1;33m)\u001B[0m\u001B[1;33m\u001B[0m\u001B[1;33m\u001B[0m\u001B[0m\n\u001B[0m\u001B[0;32m    299\u001B[0m \u001B[1;33m\u001B[0m\u001B[0m\n\u001B[0;32m    300\u001B[0m         \u001B[0mdoc\u001B[0m \u001B[1;33m=\u001B[0m \u001B[0mfn\u001B[0m\u001B[1;33m.\u001B[0m\u001B[0m__doc__\u001B[0m \u001B[1;32mis\u001B[0m \u001B[1;32mnot\u001B[0m \u001B[1;32mNone\u001B[0m \u001B[1;32mand\u001B[0m \u001B[0mfn\u001B[0m\u001B[1;33m.\u001B[0m\u001B[0m__doc__\u001B[0m \u001B[1;32mor\u001B[0m \u001B[1;34m\"\"\u001B[0m\u001B[1;33m\u001B[0m\u001B[1;33m\u001B[0m\u001B[0m\n",
      "\u001B[1;32md:\\github\\test_database\\venv\\lib\\site-packages\\sqlalchemy\\sql\\schema.py\u001B[0m in \u001B[0;36m__new__\u001B[1;34m(cls, *args, **kw)\u001B[0m\n\u001B[0;32m    575\u001B[0m         \u001B[1;32mif\u001B[0m \u001B[0mkey\u001B[0m \u001B[1;32min\u001B[0m \u001B[0mmetadata\u001B[0m\u001B[1;33m.\u001B[0m\u001B[0mtables\u001B[0m\u001B[1;33m:\u001B[0m\u001B[1;33m\u001B[0m\u001B[1;33m\u001B[0m\u001B[0m\n\u001B[0;32m    576\u001B[0m             \u001B[1;32mif\u001B[0m \u001B[1;32mnot\u001B[0m \u001B[0mkeep_existing\u001B[0m \u001B[1;32mand\u001B[0m \u001B[1;32mnot\u001B[0m \u001B[0mextend_existing\u001B[0m \u001B[1;32mand\u001B[0m \u001B[0mbool\u001B[0m\u001B[1;33m(\u001B[0m\u001B[0margs\u001B[0m\u001B[1;33m)\u001B[0m\u001B[1;33m:\u001B[0m\u001B[1;33m\u001B[0m\u001B[1;33m\u001B[0m\u001B[0m\n\u001B[1;32m--> 577\u001B[1;33m                 raise exc.InvalidRequestError(\n\u001B[0m\u001B[0;32m    578\u001B[0m                     \u001B[1;34m\"Table '%s' is already defined for this MetaData \"\u001B[0m\u001B[1;33m\u001B[0m\u001B[1;33m\u001B[0m\u001B[0m\n\u001B[0;32m    579\u001B[0m                     \u001B[1;34m\"instance.  Specify 'extend_existing=True' \"\u001B[0m\u001B[1;33m\u001B[0m\u001B[1;33m\u001B[0m\u001B[0m\n",
      "\u001B[1;31mInvalidRequestError\u001B[0m: Table 'Price' is already defined for this MetaData instance.  Specify 'extend_existing=True' to redefine options and columns on an existing Table object."
     ]
    }
   ],
   "source": [
    "class Price(Base):\n",
    "    __tablename__='Price'\n",
    "    id=Column(Integer,autoincrement=True,primary_key=True)\n",
    "    Date_id=Column(Integer,ForeignKey('Date.Date_id'))\n",
    "    Area_Code=Column(String)\n",
    "    Total_Condo_Sold_Number=Column(Integer)\n",
    "    Avg_Price=Column(Float)\n",
    "    Med_Price=Column(Integer)"
   ],
   "metadata": {
    "collapsed": false,
    "pycharm": {
     "name": "#%%\n"
    }
   }
  },
  {
   "cell_type": "code",
   "execution_count": null,
   "outputs": [],
   "source": [],
   "metadata": {
    "collapsed": false,
    "pycharm": {
     "name": "#%%\n"
    }
   }
  },
  {
   "cell_type": "code",
   "execution_count": null,
   "outputs": [],
   "source": [],
   "metadata": {
    "collapsed": false,
    "pycharm": {
     "name": "#%%\n"
    }
   }
  },
  {
   "cell_type": "code",
   "execution_count": null,
   "outputs": [],
   "source": [],
   "metadata": {
    "collapsed": false,
    "pycharm": {
     "name": "#%%\n"
    }
   }
  },
  {
   "cell_type": "code",
   "execution_count": null,
   "outputs": [],
   "source": [],
   "metadata": {
    "collapsed": false,
    "pycharm": {
     "name": "#%%\n"
    }
   }
  },
  {
   "cell_type": "code",
   "execution_count": 2,
   "outputs": [],
   "source": [
    "df=pd.read_json(\"files/raw_data.json\")"
   ],
   "metadata": {
    "collapsed": false,
    "pycharm": {
     "name": "#%%\n"
    }
   }
  },
  {
   "cell_type": "code",
   "execution_count": 3,
   "outputs": [],
   "source": [
    "df1=df.T"
   ],
   "metadata": {
    "collapsed": false,
    "pycharm": {
     "name": "#%%\n"
    }
   }
  },
  {
   "cell_type": "code",
   "execution_count": 11,
   "outputs": [
    {
     "data": {
      "text/plain": "            Date Area_Code Total_Condo_Sold_Number   Avg_Price Med_Price  \\\n0     2001-01-01       E02                     5.0    214180.0  229000.0   \n1     2001-01-01       W09                    15.0    108467.0   93000.0   \n2     2001-01-01       W08                    18.0    218839.0  150000.0   \n3     2001-01-01       W07                     1.0    179500.0  179500.0   \n4     2001-01-01       W06                    15.0    224660.0  190000.0   \n...          ...       ...                     ...         ...       ...   \n8773  2021-04-01       W07                     4.0    827000.0  847500.0   \n8774  2021-04-01       W08                   113.0    639655.0  600000.0   \n8775  2021-04-01       W02                    31.0    720145.0  671000.0   \n8776  2021-04-01       W03                    12.0    593675.0  580000.0   \n8777  2021-04-01       All                  2277.0  727137.343        NA   \n\n     Prime_Rate Inflation          GDP Metal_Price       NASDAQ  \\\n0           7.4       2.8  33393.91068     262.182  2641.687163   \n1           7.4       2.8  33393.91068     262.182  2641.687163   \n2           7.4       2.8  33393.91068     262.182  2641.687163   \n3           7.4       2.8  33393.91068     262.182  2641.687163   \n4           7.4       2.8  33393.91068     262.182  2641.687163   \n...         ...       ...          ...         ...          ...   \n8773       2.45       0.7  46006.79326    683.0225  13889.21294   \n8774       2.45       0.7  46006.79326    683.0225  13889.21294   \n8775       2.45       0.7  46006.79326    683.0225  13889.21294   \n8776       2.45       0.7  46006.79326    683.0225  13889.21294   \n8777       2.45       0.7  46006.79326    683.0225  13889.21294   \n\n     Ontario_Immigrants_International Toronto_Median_Age UT_Total_Enrollment  \\\n0                             34801.0               36.8             45261.0   \n1                             34801.0               36.8             45261.0   \n2                             34801.0               36.8             45261.0   \n3                             34801.0               36.8             45261.0   \n4                             34801.0               36.8             45261.0   \n...                               ...                ...                 ...   \n8773                          17281.0               40.4             83970.0   \n8774                          17281.0               40.4             83970.0   \n8775                          17281.0               40.4             83970.0   \n8776                          17281.0               40.4             83970.0   \n8777                          17281.0               40.4             83970.0   \n\n     Toronto_Participation_Rate Toronto_Employment_Rate Toronto_Population  \\\n0                          68.6                    65.0          4882618.0   \n1                          68.6                    65.0          4882618.0   \n2                          68.6                    65.0          4882618.0   \n3                          68.6                    65.0          4882618.0   \n4                          68.6                    65.0          4882618.0   \n...                         ...                     ...                ...   \n8773                       64.7                    58.4          6555205.0   \n8774                       64.7                    58.4          6555205.0   \n8775                       64.7                    58.4          6555205.0   \n8776                       64.7                    58.4          6555205.0   \n8777                       64.7                    58.4          6555205.0   \n\n     New_Units_Number_Planned New_Units_Number_Construction  \n0                      1457.0                         511.0  \n1                      1457.0                         511.0  \n2                      1457.0                         511.0  \n3                      1457.0                         511.0  \n4                      1457.0                         511.0  \n...                       ...                           ...  \n8773                   3986.0                        2271.0  \n8774                   3986.0                        2271.0  \n8775                   3986.0                        2271.0  \n8776                   3986.0                        2271.0  \n8777                   3986.0                        2271.0  \n\n[8778 rows x 18 columns]",
      "text/html": "<div>\n<style scoped>\n    .dataframe tbody tr th:only-of-type {\n        vertical-align: middle;\n    }\n\n    .dataframe tbody tr th {\n        vertical-align: top;\n    }\n\n    .dataframe thead th {\n        text-align: right;\n    }\n</style>\n<table border=\"1\" class=\"dataframe\">\n  <thead>\n    <tr style=\"text-align: right;\">\n      <th></th>\n      <th>Date</th>\n      <th>Area_Code</th>\n      <th>Total_Condo_Sold_Number</th>\n      <th>Avg_Price</th>\n      <th>Med_Price</th>\n      <th>Prime_Rate</th>\n      <th>Inflation</th>\n      <th>GDP</th>\n      <th>Metal_Price</th>\n      <th>NASDAQ</th>\n      <th>Ontario_Immigrants_International</th>\n      <th>Toronto_Median_Age</th>\n      <th>UT_Total_Enrollment</th>\n      <th>Toronto_Participation_Rate</th>\n      <th>Toronto_Employment_Rate</th>\n      <th>Toronto_Population</th>\n      <th>New_Units_Number_Planned</th>\n      <th>New_Units_Number_Construction</th>\n    </tr>\n  </thead>\n  <tbody>\n    <tr>\n      <th>0</th>\n      <td>2001-01-01</td>\n      <td>E02</td>\n      <td>5.0</td>\n      <td>214180.0</td>\n      <td>229000.0</td>\n      <td>7.4</td>\n      <td>2.8</td>\n      <td>33393.91068</td>\n      <td>262.182</td>\n      <td>2641.687163</td>\n      <td>34801.0</td>\n      <td>36.8</td>\n      <td>45261.0</td>\n      <td>68.6</td>\n      <td>65.0</td>\n      <td>4882618.0</td>\n      <td>1457.0</td>\n      <td>511.0</td>\n    </tr>\n    <tr>\n      <th>1</th>\n      <td>2001-01-01</td>\n      <td>W09</td>\n      <td>15.0</td>\n      <td>108467.0</td>\n      <td>93000.0</td>\n      <td>7.4</td>\n      <td>2.8</td>\n      <td>33393.91068</td>\n      <td>262.182</td>\n      <td>2641.687163</td>\n      <td>34801.0</td>\n      <td>36.8</td>\n      <td>45261.0</td>\n      <td>68.6</td>\n      <td>65.0</td>\n      <td>4882618.0</td>\n      <td>1457.0</td>\n      <td>511.0</td>\n    </tr>\n    <tr>\n      <th>2</th>\n      <td>2001-01-01</td>\n      <td>W08</td>\n      <td>18.0</td>\n      <td>218839.0</td>\n      <td>150000.0</td>\n      <td>7.4</td>\n      <td>2.8</td>\n      <td>33393.91068</td>\n      <td>262.182</td>\n      <td>2641.687163</td>\n      <td>34801.0</td>\n      <td>36.8</td>\n      <td>45261.0</td>\n      <td>68.6</td>\n      <td>65.0</td>\n      <td>4882618.0</td>\n      <td>1457.0</td>\n      <td>511.0</td>\n    </tr>\n    <tr>\n      <th>3</th>\n      <td>2001-01-01</td>\n      <td>W07</td>\n      <td>1.0</td>\n      <td>179500.0</td>\n      <td>179500.0</td>\n      <td>7.4</td>\n      <td>2.8</td>\n      <td>33393.91068</td>\n      <td>262.182</td>\n      <td>2641.687163</td>\n      <td>34801.0</td>\n      <td>36.8</td>\n      <td>45261.0</td>\n      <td>68.6</td>\n      <td>65.0</td>\n      <td>4882618.0</td>\n      <td>1457.0</td>\n      <td>511.0</td>\n    </tr>\n    <tr>\n      <th>4</th>\n      <td>2001-01-01</td>\n      <td>W06</td>\n      <td>15.0</td>\n      <td>224660.0</td>\n      <td>190000.0</td>\n      <td>7.4</td>\n      <td>2.8</td>\n      <td>33393.91068</td>\n      <td>262.182</td>\n      <td>2641.687163</td>\n      <td>34801.0</td>\n      <td>36.8</td>\n      <td>45261.0</td>\n      <td>68.6</td>\n      <td>65.0</td>\n      <td>4882618.0</td>\n      <td>1457.0</td>\n      <td>511.0</td>\n    </tr>\n    <tr>\n      <th>...</th>\n      <td>...</td>\n      <td>...</td>\n      <td>...</td>\n      <td>...</td>\n      <td>...</td>\n      <td>...</td>\n      <td>...</td>\n      <td>...</td>\n      <td>...</td>\n      <td>...</td>\n      <td>...</td>\n      <td>...</td>\n      <td>...</td>\n      <td>...</td>\n      <td>...</td>\n      <td>...</td>\n      <td>...</td>\n      <td>...</td>\n    </tr>\n    <tr>\n      <th>8773</th>\n      <td>2021-04-01</td>\n      <td>W07</td>\n      <td>4.0</td>\n      <td>827000.0</td>\n      <td>847500.0</td>\n      <td>2.45</td>\n      <td>0.7</td>\n      <td>46006.79326</td>\n      <td>683.0225</td>\n      <td>13889.21294</td>\n      <td>17281.0</td>\n      <td>40.4</td>\n      <td>83970.0</td>\n      <td>64.7</td>\n      <td>58.4</td>\n      <td>6555205.0</td>\n      <td>3986.0</td>\n      <td>2271.0</td>\n    </tr>\n    <tr>\n      <th>8774</th>\n      <td>2021-04-01</td>\n      <td>W08</td>\n      <td>113.0</td>\n      <td>639655.0</td>\n      <td>600000.0</td>\n      <td>2.45</td>\n      <td>0.7</td>\n      <td>46006.79326</td>\n      <td>683.0225</td>\n      <td>13889.21294</td>\n      <td>17281.0</td>\n      <td>40.4</td>\n      <td>83970.0</td>\n      <td>64.7</td>\n      <td>58.4</td>\n      <td>6555205.0</td>\n      <td>3986.0</td>\n      <td>2271.0</td>\n    </tr>\n    <tr>\n      <th>8775</th>\n      <td>2021-04-01</td>\n      <td>W02</td>\n      <td>31.0</td>\n      <td>720145.0</td>\n      <td>671000.0</td>\n      <td>2.45</td>\n      <td>0.7</td>\n      <td>46006.79326</td>\n      <td>683.0225</td>\n      <td>13889.21294</td>\n      <td>17281.0</td>\n      <td>40.4</td>\n      <td>83970.0</td>\n      <td>64.7</td>\n      <td>58.4</td>\n      <td>6555205.0</td>\n      <td>3986.0</td>\n      <td>2271.0</td>\n    </tr>\n    <tr>\n      <th>8776</th>\n      <td>2021-04-01</td>\n      <td>W03</td>\n      <td>12.0</td>\n      <td>593675.0</td>\n      <td>580000.0</td>\n      <td>2.45</td>\n      <td>0.7</td>\n      <td>46006.79326</td>\n      <td>683.0225</td>\n      <td>13889.21294</td>\n      <td>17281.0</td>\n      <td>40.4</td>\n      <td>83970.0</td>\n      <td>64.7</td>\n      <td>58.4</td>\n      <td>6555205.0</td>\n      <td>3986.0</td>\n      <td>2271.0</td>\n    </tr>\n    <tr>\n      <th>8777</th>\n      <td>2021-04-01</td>\n      <td>All</td>\n      <td>2277.0</td>\n      <td>727137.343</td>\n      <td>NA</td>\n      <td>2.45</td>\n      <td>0.7</td>\n      <td>46006.79326</td>\n      <td>683.0225</td>\n      <td>13889.21294</td>\n      <td>17281.0</td>\n      <td>40.4</td>\n      <td>83970.0</td>\n      <td>64.7</td>\n      <td>58.4</td>\n      <td>6555205.0</td>\n      <td>3986.0</td>\n      <td>2271.0</td>\n    </tr>\n  </tbody>\n</table>\n<p>8778 rows × 18 columns</p>\n</div>"
     },
     "execution_count": 11,
     "metadata": {},
     "output_type": "execute_result"
    }
   ],
   "source": [
    "df1"
   ],
   "metadata": {
    "collapsed": false,
    "pycharm": {
     "name": "#%%\n"
    }
   }
  },
  {
   "cell_type": "code",
   "execution_count": 15,
   "outputs": [],
   "source": [
    "df1['Date']=df1['Date'].astype('datetime64')"
   ],
   "metadata": {
    "collapsed": false,
    "pycharm": {
     "name": "#%%\n"
    }
   }
  },
  {
   "cell_type": "code",
   "execution_count": 16,
   "outputs": [
    {
     "name": "stdout",
     "output_type": "stream",
     "text": [
      "<class 'pandas.core.frame.DataFrame'>\n",
      "Int64Index: 8778 entries, 0 to 8777\n",
      "Data columns (total 18 columns):\n",
      " #   Column                            Non-Null Count  Dtype         \n",
      "---  ------                            --------------  -----         \n",
      " 0   Date                              8778 non-null   datetime64[ns]\n",
      " 1   Area_Code                         8778 non-null   object        \n",
      " 2   Total_Condo_Sold_Number           8778 non-null   object        \n",
      " 3   Avg_Price                         8778 non-null   object        \n",
      " 4   Med_Price                         8778 non-null   object        \n",
      " 5   Prime_Rate                        8778 non-null   object        \n",
      " 6   Inflation                         8778 non-null   object        \n",
      " 7   GDP                               8778 non-null   object        \n",
      " 8   Metal_Price                       8778 non-null   object        \n",
      " 9   NASDAQ                            8778 non-null   object        \n",
      " 10  Ontario_Immigrants_International  8778 non-null   object        \n",
      " 11  Toronto_Median_Age                8778 non-null   object        \n",
      " 12  UT_Total_Enrollment               8778 non-null   object        \n",
      " 13  Toronto_Participation_Rate        8778 non-null   object        \n",
      " 14  Toronto_Employment_Rate           8778 non-null   object        \n",
      " 15  Toronto_Population                8778 non-null   object        \n",
      " 16  New_Units_Number_Planned          8778 non-null   object        \n",
      " 17  New_Units_Number_Construction     8778 non-null   object        \n",
      "dtypes: datetime64[ns](1), object(17)\n",
      "memory usage: 1.5+ MB\n"
     ]
    }
   ],
   "source": [
    "df1.info()\n"
   ],
   "metadata": {
    "collapsed": false,
    "pycharm": {
     "name": "#%%\n"
    }
   }
  },
  {
   "cell_type": "code",
   "execution_count": null,
   "outputs": [],
   "source": [],
   "metadata": {
    "collapsed": false,
    "pycharm": {
     "name": "#%%\n"
    }
   }
  }
 ],
 "metadata": {
  "kernelspec": {
   "display_name": "Python 3",
   "language": "python",
   "name": "python3"
  },
  "language_info": {
   "codemirror_mode": {
    "name": "ipython",
    "version": 2
   },
   "file_extension": ".py",
   "mimetype": "text/x-python",
   "name": "python",
   "nbconvert_exporter": "python",
   "pygments_lexer": "ipython2",
   "version": "2.7.6"
  }
 },
 "nbformat": 4,
 "nbformat_minor": 0
}